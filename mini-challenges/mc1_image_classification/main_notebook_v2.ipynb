{
 "cells": [
  {
   "cell_type": "markdown",
   "metadata": {},
   "source": [
    "# Deep Learning Mini-Challenge 1: Image Classification with Neuronal Networks\n",
    "\n",
    "**Task description:** The goal of this mini-challenge is the implementation, optimization and evaluation of a neural network model for the classification of an image dataset. The focus is on the training and evaluation of the models. The evaluation is limited to Multi layer Perceptrons (MLP's) and Convolutional neural Networks (CNN's) in combination with different optimization and regularization methods.\n",
    "\n",
    "**Description of the dataset:** For this mini challenge we use the `CIFAR10` dataset, which is a sub-set of the `Tiny images` dataset. The dataset is named after the **C**anadian **I**nstitute **F**or **A**dvanced **R**esearch. It is an image dataset and contains some 60 000 labelled images that belong to one of 10 classes. The images have a resolution of 32x32 pixels and are in RGB format. \n"
   ]
  },
  {
   "cell_type": "markdown",
   "metadata": {},
   "source": [
    "### Load dependencies"
   ]
  },
  {
   "cell_type": "code",
   "execution_count": 1,
   "metadata": {},
   "outputs": [],
   "source": [
    "import torch\n",
    "import torch.nn as nn\n",
    "import torch.nn.functional as F\n",
    "import torchvision\n",
    "import torchvision.transforms as transforms\n",
    "\n",
    "from multiprocessing import cpu_count\n",
    "import wandb\n",
    "\n",
    "import copy\n",
    "import os\n",
    "import pickle\n",
    "import numpy as np\n",
    "import pandas as pd \n",
    "import matplotlib.pyplot as plt\n",
    "from datetime import datetime\n",
    "import plotly\n",
    "import plotly.graph_objects as go\n",
    "import plotly.express as px\n",
    "\n",
    "# import functions for explorative data analysis & visualization\n",
    "from eda_functions import *\n",
    "\n",
    "os.environ[\"WANDB_SILENT\"] = \"True\""
   ]
  },
  {
   "cell_type": "markdown",
   "metadata": {},
   "source": [
    "### Device configuration\n",
    "Check for allocated devices that can be used for training of the Models."
   ]
  },
  {
   "cell_type": "code",
   "execution_count": 2,
   "metadata": {},
   "outputs": [
    {
     "data": {
      "text/plain": [
       "device(type='cuda')"
      ]
     },
     "execution_count": 2,
     "metadata": {},
     "output_type": "execute_result"
    }
   ],
   "source": [
    "device = torch.device(\"cuda\" if torch.cuda.is_available() else \"cpu\")\n",
    "device"
   ]
  },
  {
   "cell_type": "markdown",
   "metadata": {},
   "source": [
    "### Weights and Biases init configuration\n",
    "\n",
    "To monitor the training of our models and to tune hyperparameters, we use the weights and biasses library.\n",
    "Its methods can be integrated with only a few lines of code, the program can be used for free and the code is open source. \n",
    "For more informations see: https://wandb.ai/site"
   ]
  },
  {
   "cell_type": "code",
   "execution_count": 3,
   "metadata": {},
   "outputs": [
    {
     "data": {
      "text/plain": [
       "True"
      ]
     },
     "execution_count": 3,
     "metadata": {},
     "output_type": "execute_result"
    }
   ],
   "source": [
    "wandb.login()"
   ]
  },
  {
   "cell_type": "markdown",
   "metadata": {},
   "source": [
    "## Load Dataset\n",
    "\n",
    "Pytorchs torchvision library offers access to a variety of datasets, including CIFAR10. In a first step, the dataset is downloaded and stored in the data folder of our repository. In the future, our dataset will be automatically accessed from there. \n",
    "\n",
    "After that, the dataset gets loaded into the notebook without any transformation to review the data and conduct some analysis. The data is loaded using pytorch's `DataLoader` method. This allows for relatively simple pre-sampling and loading of the data, with the possibility of custom customizing loading order and automatic batching. For this notebook we use a batch size of 32 samples per batch."
   ]
  },
  {
   "cell_type": "code",
   "execution_count": 4,
   "metadata": {},
   "outputs": [
    {
     "name": "stdout",
     "output_type": "stream",
     "text": [
      "Files already downloaded and verified\n",
      "Files already downloaded and verified\n"
     ]
    }
   ],
   "source": [
    "def define_dataset(normalize=False, path=None):\n",
    "    '''Defines the train and testset\n",
    "    Args:\n",
    "        normalize (bool): if true normalizes the image\n",
    "    Returns:\n",
    "        train_set (torchvision dataset)\n",
    "        test_set (torchvision dataset)\n",
    "    '''\n",
    "    if normalize:\n",
    "        transform = transforms.Compose([transforms.ToTensor(), transforms.Normalize((0.5, 0.5, 0.5), (0.5, 0.5, 0.5))])\n",
    "    else:\n",
    "        transform = transforms.Compose([transforms.ToTensor(),])\n",
    "\n",
    "    if not os.path.exists(path):\n",
    "        os.makedirs(path)\n",
    "\n",
    "    train_set = torchvision.datasets.CIFAR10(\n",
    "        root=path, \n",
    "        train=True, \n",
    "        download=True, \n",
    "        transform=transform)\n",
    "\n",
    "    test_set = torchvision.datasets.CIFAR10(\n",
    "        root=path, \n",
    "        train=False, \n",
    "        download=True, \n",
    "        transform=transform)\n",
    "\n",
    "    return train_set, test_set\n",
    "\n",
    "\n",
    "def define_dataloader(train_set, test_set, batch_size):\n",
    "    '''Defines the dataloader for the train and test set\n",
    "    Args:\n",
    "        train_set (torchvision dataset):\n",
    "        test_set (torchvision dataset):\n",
    "        batch_size (int): defines the number of samples per batch\n",
    "    Returns:\n",
    "        train_loader\n",
    "        test_loader\n",
    "    '''\n",
    "    train_loader = torch.utils.data.DataLoader(\n",
    "        train_set, \n",
    "        batch_size=batch_size, \n",
    "        shuffle=True,\n",
    "        )\n",
    "\n",
    "    test_loader = torch.utils.data.DataLoader(\n",
    "        test_set, \n",
    "        batch_size=batch_size, \n",
    "        shuffle=False,\n",
    "        )\n",
    "\n",
    "    return train_loader, test_loader\n",
    "\n",
    "\n",
    "# load dataset without normalization\n",
    "batch_size = 32\n",
    "train_set, test_set =  define_dataset(normalize=False, path='./../../data')\n",
    "train_loader, test_loader = define_dataloader(train_set, test_set, batch_size)"
   ]
  },
  {
   "cell_type": "markdown",
   "metadata": {},
   "source": [
    "### Define class labels\n",
    "\n",
    "The CIFAR10 dataset contains ten different classes. In the dataset itself, these are represented by the numerical values 0 to 9. In order to be able to check the individual samples better, we create a dictionary that creates a mapping between the numerical class labels and the real class names."
   ]
  },
  {
   "cell_type": "code",
   "execution_count": 5,
   "metadata": {},
   "outputs": [
    {
     "data": {
      "text/plain": [
       "{0: 'plane',\n",
       " 1: 'car',\n",
       " 2: 'bird',\n",
       " 3: 'cat',\n",
       " 4: 'deer',\n",
       " 5: 'dog',\n",
       " 6: 'frog',\n",
       " 7: 'horse',\n",
       " 8: 'ship',\n",
       " 9: 'truck'}"
      ]
     },
     "execution_count": 5,
     "metadata": {},
     "output_type": "execute_result"
    }
   ],
   "source": [
    "classes = (\"plane\", \"car\", \"bird\", \"cat\", \"deer\", \"dog\", \"frog\", \"horse\", \"ship\", \"truck\")\n",
    "classes_map = dict(zip(range(len(classes)), classes))\n",
    "classes_map"
   ]
  },
  {
   "cell_type": "markdown",
   "metadata": {},
   "source": [
    "## Explorative data analysis"
   ]
  },
  {
   "cell_type": "markdown",
   "metadata": {},
   "source": [
    "### Class balance in training and test set\n",
    "\n",
    "We now want to check the frequencies of the individual class labels in the training and test sets."
   ]
  },
  {
   "cell_type": "code",
   "execution_count": 6,
   "metadata": {},
   "outputs": [
    {
     "data": {
      "image/png": "[encoded data removed]",
      "text/plain": [
       "<Figure size 720x360 with 1 Axes>"
      ]
     },
     "metadata": {
      "needs_background": "light"
     },
     "output_type": "display_data"
    }
   ],
   "source": [
    "# retrieve train label class count\n",
    "train_label_count = list()\n",
    "for samples, labels in train_loader:\n",
    "    train_label_count.extend(labels.numpy())\n",
    "train_label_count = {classes_map[i]: train_label_count.count(i) for i in set(train_label_count)}\n",
    "\n",
    "plt.figure(figsize=(10,5))\n",
    "plt.bar(list(train_label_count.keys()), list(train_label_count.values()))\n",
    "plt.title(\"Nr of labels per class in train set\")\n",
    "plt.ylabel(\"count\")\n",
    "plt.show()"
   ]
  },
  {
   "cell_type": "markdown",
   "metadata": {},
   "source": [
    "**Description:** As can be seen in the visualisation above, the training set has balanced class labels. There are 5000 labels per class for all ten classes which results in 50'000 labels total within the trainig set. Next we want to examine the test set."
   ]
  },
  {
   "cell_type": "code",
   "execution_count": 7,
   "metadata": {},
   "outputs": [
    {
     "data": {
      "image/png": "[encoded data removed]",
      "text/plain": [
       "<Figure size 720x360 with 1 Axes>"
      ]
     },
     "metadata": {
      "needs_background": "light"
     },
     "output_type": "display_data"
    }
   ],
   "source": [
    "# retrieve test label class count\n",
    "test_label_count = list()\n",
    "for samples, labels in test_loader:\n",
    "    test_label_count.extend(labels.numpy())\n",
    "test_label_count = {classes_map[i]: test_label_count.count(i) for i in set(test_label_count)}\n",
    "\n",
    "plt.figure(figsize=(10,5))\n",
    "plt.bar(list(test_label_count.keys()), list(test_label_count.values()))\n",
    "plt.title(\"Nr of labels per class in test set\")\n",
    "plt.ylabel(\"count\")\n",
    "plt.show()"
   ]
  },
  {
   "cell_type": "markdown",
   "metadata": {},
   "source": [
    "**Description:** The test set also has balanced class labels. There are 1000 samples per class in the test set which means in total, our test set has 10,000 samples. Knowing the size of the train and test set are able to retrieve calculate the split ratio in the CIFAR10 dataset. The resulting split ratio is therefore 5 to 1 between the train and test set."
   ]
  },
  {
   "cell_type": "markdown",
   "metadata": {},
   "source": [
    "### Select sample batch of images"
   ]
  },
  {
   "cell_type": "code",
   "execution_count": 8,
   "metadata": {},
   "outputs": [
    {
     "name": "stdout",
     "output_type": "stream",
     "text": [
      "Sample Dimensions: torch.Size([32, 3, 32, 32]) \n",
      "Label Dimension: torch.Size([32])\n"
     ]
    }
   ],
   "source": [
    "example_batch = iter(train_loader)\n",
    "samples, labels = example_batch.next()\n",
    "print(\"Sample Dimensions:\", samples.shape, \"\\nLabel Dimension:\", labels.shape)"
   ]
  },
  {
   "cell_type": "markdown",
   "metadata": {},
   "source": [
    "**Description:** We now see the dimensions of a selected batch from the training set. The sample dimension is 32, 3, 32, 32. These dimensions are composed as follows:\n",
    "**32** samples,\n",
    "**3** colour dimensions (RGB),\n",
    "**32** pixels image height,\n",
    "**32** pixels image width.\n",
    "The label dimension is simply 32 for the labels of the **32** samples."
   ]
  },
  {
   "cell_type": "markdown",
   "metadata": {},
   "source": [
    "### Visualization of a single batch"
   ]
  },
  {
   "cell_type": "code",
   "execution_count": 9,
   "metadata": {},
   "outputs": [
    {
     "data": {
      "image/png": "[encoded data removed]",
      "text/plain": [
       "<Figure size 1152x1152 with 32 Axes>"
      ]
     },
     "metadata": {},
     "output_type": "display_data"
    }
   ],
   "source": [
    "m = 8\n",
    "n = batch_size // m\n",
    "\n",
    "fig, axes = plt.subplots(m, n, figsize=(16,16))\n",
    "for i, image in enumerate(range(batch_size)):\n",
    "    axes[i//n, i%n].imshow(samples[i].permute(1, 2, 0))\n",
    "    axes[i//n, i%n].title.set_text(\"Class: {}\".format(classes[labels[i]]))\n",
    "    axes[i//n, i%n].set_xticks([])\n",
    "    axes[i//n, i%n].set_yticks([])\n",
    "\n",
    "plt.suptitle(\"Visualizing images from training set\")\n",
    "plt.tight_layout()\n",
    "plt.show()"
   ]
  },
  {
   "cell_type": "markdown",
   "metadata": {},
   "source": [
    "**Description:** Above we see our randomly drawn training batch. The respective class labels are present in the title. As we can see, the images are not always easy to recognise, even for a human being, due to the low resolution. The biggest advantage of the minimal resolution is the reduction of the features that our model has to take into account, which means that we can use simpler models and correspondingly need less training time."
   ]
  },
  {
   "cell_type": "markdown",
   "metadata": {},
   "source": [
    "## Define the target metrics \n",
    "In this notebook, a set of metrics are used for the evaluation. \n",
    "\n",
    "Since we want to solve a multiclass classification task, the hyperparameter optimization is done primarily by using the cross entropy loss and the balanced accuracy. The score for a perfect prediction would be zero. The initial score of a modell should therefore be higher and start to converge to a lower value. For more information on pytorchs CrossEntropyLoss see: https://pytorch.org/docs/stable/generated/torch.nn.CrossEntropyLoss.html\n",
    "\n",
    "Because the dataset has the same proportion of labels within each of its classes, the accuracy equals the balanced accuracy. The accuracy varies in theory between 0 which is the worst possible and 1 which is a perfect prediction. In reality, the accuracy score of our models should start at around 0.1 since we have 10 classes, and it is what could be expected on random prediction of untrained models. \n"
   ]
  },
  {
   "cell_type": "markdown",
   "metadata": {},
   "source": [
    "## Define Models\n",
    "The individual model classes are initialised here."
   ]
  },
  {
   "cell_type": "code",
   "execution_count": 10,
   "metadata": {},
   "outputs": [],
   "source": [
    "class MLPNet_2_layer(nn.Module):\n",
    "    '''Multi Layer Perceptron Net class with 2 layers'''\n",
    "    def __init__(self, fc_hidden_1, fc_hidden_2=None, fc_hidden_3=None, activation=F.relu, drop_out=0):\n",
    "        super(MLPNet_2_layer, self).__init__()\n",
    "        self.fc1 = nn.Linear(in_features=32*32*3, out_features=fc_hidden_1)\n",
    "        self.fc2 = nn.Linear(in_features=fc_hidden_1, out_features=10)\n",
    "        self.dropout = nn.Dropout(drop_out)\n",
    "        self.activation = activation # activation function\n",
    "    \n",
    "    def forward(self, x):\n",
    "        batch_size  = x.shape[0]\n",
    "        x = x.view(batch_size, -1)\n",
    "        x = self.activation(self.fc1(x))\n",
    "        x = self.dropout(x)\n",
    "        x = self.fc2(x)\n",
    "        return x\n",
    "\n",
    "class MLPNet_3_layer(nn.Module):\n",
    "    '''Multi Layer Perceptron Net class with 3 layers'''\n",
    "    def __init__(self, fc_hidden_1, fc_hidden_2, fc_hidden_3=None, activation=F.relu, drop_out=0):\n",
    "        super(MLPNet_3_layer, self).__init__()\n",
    "        self.fc1 = nn.Linear(in_features=32*32*3, out_features=fc_hidden_1)\n",
    "        self.fc2 = nn.Linear(in_features=fc_hidden_1, out_features=fc_hidden_2)\n",
    "        self.fc3 = nn.Linear(in_features=fc_hidden_2, out_features=10)\n",
    "        self.dropout = nn.Dropout(drop_out)\n",
    "        self.activation = activation # activation function\n",
    "    \n",
    "    def forward(self, x):\n",
    "        batch_size  = x.shape[0]\n",
    "        x = x.view(batch_size, -1)\n",
    "        x = self.activation(self.fc1(x))\n",
    "        x = self.dropout(x)\n",
    "        x = self.activation(self.fc2(x))\n",
    "        x = self.dropout(x)\n",
    "        x = self.fc3(x)\n",
    "        return x\n",
    "\n",
    "class MLPNet_4_layer(nn.Module):\n",
    "    '''Multi Layer Perceptron Net class with 4 layers'''\n",
    "    def __init__(self, fc_hidden_1, fc_hidden_2, fc_hidden_3, activation=F.relu, drop_out=0):\n",
    "        super(MLPNet_4_layer, self).__init__()\n",
    "        self.fc1 = nn.Linear(in_features=32*32*3, out_features=fc_hidden_1)\n",
    "        self.fc2 = nn.Linear(in_features=fc_hidden_1, out_features=fc_hidden_2)\n",
    "        self.fc3 = nn.Linear(in_features=fc_hidden_2, out_features=fc_hidden_3)\n",
    "        self.fc4 = nn.Linear(in_features=fc_hidden_3, out_features=10)\n",
    "        self.dropout = nn.Dropout(drop_out)\n",
    "        self.activation = activation # activation function\n",
    "    \n",
    "    def forward(self, x):\n",
    "        batch_size  = x.shape[0]\n",
    "        x = x.view(batch_size, -1)\n",
    "        x = self.activation(self.fc1(x))\n",
    "        x = self.dropout(x)\n",
    "        x = self.activation(self.fc2(x))\n",
    "        x = self.dropout(x)\n",
    "        x = self.activation(self.fc3(x))\n",
    "        x = self.dropout(x)\n",
    "        x = self.fc4(x)\n",
    "        return x\n",
    "    \n",
    "class MLPNet_6_layer(nn.Module):\n",
    "    '''Multi Layer Perceptron Net class with 4 layers'''\n",
    "    def __init__(self, fc_hidden_1, fc_hidden_2, fc_hidden_3, fc_hidden_4, fc_hidden_5, activation=F.relu, drop_out=0):\n",
    "        super(MLPNet_6_layer, self).__init__()\n",
    "        self.fc1 = nn.Linear(in_features=32*32*3, out_features=fc_hidden_1)\n",
    "        self.fc2 = nn.Linear(in_features=fc_hidden_1, out_features=fc_hidden_2)\n",
    "        self.fc3 = nn.Linear(in_features=fc_hidden_2, out_features=fc_hidden_3)\n",
    "        self.fc4 = nn.Linear(in_features=fc_hidden_3, out_features=fc_hidden_4)\n",
    "        self.fc5 = nn.Linear(in_features=fc_hidden_4, out_features=fc_hidden_5)\n",
    "        self.fc6 = nn.Linear(in_features=fc_hidden_5, out_features=10)\n",
    "        self.dropout = nn.Dropout(drop_out)\n",
    "        self.activation = activation # activation function\n",
    "    \n",
    "    def forward(self, x):\n",
    "        batch_size  = x.shape[0]\n",
    "        x = x.view(batch_size, -1)\n",
    "        x = self.activation(self.fc1(x))\n",
    "        x = self.dropout(x)\n",
    "        x = self.activation(self.fc2(x))\n",
    "        x = self.dropout(x)\n",
    "        x = self.activation(self.fc3(x))\n",
    "        x = self.dropout(x)\n",
    "        x = self.activation(self.fc4(x))\n",
    "        x = self.dropout(x)\n",
    "        x = self.activation(self.fc5(x))\n",
    "        x = self.dropout(x)\n",
    "        x = self.fc6(x)\n",
    "        return x"
   ]
  },
  {
   "cell_type": "code",
   "execution_count": 11,
   "metadata": {},
   "outputs": [
    {
     "name": "stdout",
     "output_type": "stream",
     "text": [
      "Files already downloaded and verified\n",
      "Files already downloaded and verified\n"
     ]
    }
   ],
   "source": [
    "# load dataset without normalization\n",
    "train_set, test_set =  define_dataset(normalize=True, path='./../../data')\n",
    "train_loader, test_loader = define_dataloader(train_set, test_set, batch_size)"
   ]
  },
  {
   "cell_type": "markdown",
   "metadata": {},
   "source": [
    "## Define Model Trainer\n",
    "The `ModelTrainer` class trains the network and logs the metrics that are calculated during training. The class gets as an input the model that needs to be trained, a train-, and test-loader as well as the number of epochs to train, an optimizer as well as a criterion that needs to be optimized.\n",
    "\n",
    "The `train_loop()` method performs a training epoch on the model. This includes forward propagation, loss calculation, backpropagation and updating the weights. In addition, the loss and the accuracy of the training are returned at the end of the method with the return statement. The `test_loop()` method creates a prediction for all samples on the test set. Then the loss and accuracy for the corresponding epoch is returned in the return statement. Controlling the training is done in the `train()` method. This is where all the methods contained in `ModelTrainer` and required for the training are called up, including logging and early stopping.\n",
    "\n",
    "\n",
    "To speed the evaluation up, the training per model is stopped after the specified number of epochs is reached or if the top test accuracy did not increase for more than 25 epochs."
   ]
  },
  {
   "cell_type": "code",
   "execution_count": 12,
   "metadata": {},
   "outputs": [],
   "source": [
    "class ModelTrainer:\n",
    "    \n",
    "    def __init__(self, model, train_loader, test_loader, num_epochs, criterion, optimizer):\n",
    "        self.model = model\n",
    "        self.train_loader = train_loader\n",
    "        self.test_loader = test_loader\n",
    "        self.num_epochs = num_epochs\n",
    "        self.criterion = criterion\n",
    "        self.optimizer = optimizer\n",
    "        self.logger = {\n",
    "            \"train\":dict(),\n",
    "            \"test\":dict()\n",
    "        }\n",
    "        self.best_log = dict()\n",
    "        self.best_model = None\n",
    "        \n",
    "        \n",
    "    def wandb_log(self, log_dict, e):\n",
    "        wandb.log(log_dict, step=e)\n",
    "\n",
    "\n",
    "    def calculate_accuracy(self, pred, true):\n",
    "        '''Calculates the accuracy for the prediction\n",
    "        Args: \n",
    "            pred: predicted labels\n",
    "            true: true labels\n",
    "        Returns:\n",
    "            accuracy as float\n",
    "        '''\n",
    "        return (pred.argmax(1) == true).type(torch.float).sum().item()\n",
    "    \n",
    "\n",
    "    def train_loop(self, dataloader, verbose):\n",
    "        '''\n",
    "        Loop for a sigle training epoch.\n",
    "        Args:\n",
    "            dataloader: pytorch dataloader\n",
    "        '''\n",
    "        self.model.train()\n",
    "        epoch_accuracy = 0\n",
    "        epoch_loss = 0\n",
    "        num_batches = len(dataloader)\n",
    "\n",
    "        for i, (images, labels) in enumerate(dataloader):\n",
    "            images = images.to(device)\n",
    "            labels = labels.to(device)\n",
    "            # Forward propagation\n",
    "            pred = self.model(images)\n",
    "            loss = self.criterion(pred, labels)\n",
    "            \n",
    "            # Backward propagation\n",
    "            self.optimizer.zero_grad()\n",
    "            loss.backward()\n",
    "            self.optimizer.step()\n",
    "\n",
    "            # calculate metrics\n",
    "            epoch_loss += loss.item()\n",
    "            epoch_accuracy += self.calculate_accuracy(pred, labels)\n",
    "\n",
    "        epoch_loss /= num_batches\n",
    "        epoch_accuracy /= len(dataloader.dataset)\n",
    "        if verbose:\n",
    "            print(f\"train loss:{epoch_loss}, train accuracy:{epoch_accuracy}\")\n",
    "        return {\"train loss\":epoch_loss, \"train accuracy\":epoch_accuracy}\n",
    "\n",
    "\n",
    "    def test_loop(self, dataloader, label=\"train\"):\n",
    "        self.model.eval()\n",
    "        epoch_loss = 0\n",
    "        epoch_accuracy = 0\n",
    "        num_batches = len(dataloader)\n",
    "\n",
    "        with torch.no_grad():\n",
    "            for i, (images, labels) in enumerate(dataloader):\n",
    "                images = images.to(device)\n",
    "                labels = labels.to(device)\n",
    "\n",
    "                # Forward propagation\n",
    "                pred = self.model(images)\n",
    "\n",
    "                # calculate metrics\n",
    "                epoch_loss += self.criterion(pred, labels).item()\n",
    "                epoch_accuracy += self.calculate_accuracy(pred, labels)\n",
    "        epoch_loss /= num_batches\n",
    "        epoch_accuracy /= len(dataloader.dataset)\n",
    "        return {\"{} loss\".format(label): epoch_loss, \"{} accuracy\".format(label): epoch_accuracy}\n",
    "\n",
    "\n",
    "    def train(self, verbose=False, include_test_scores=False, early_stopping=False):\n",
    "        # calculate initial model preformance\n",
    "        self.logger[\"train\"][0] = self.test_loop(self.train_loader, label=\"train\")\n",
    "        self.wandb_log(self.logger[\"train\"][0], 0)\n",
    "        if include_test_scores:\n",
    "            self.logger[\"test\"][0] = self.test_loop(self.test_loader, label=\"test\")\n",
    "            self.wandb_log(self.logger[\"test\"][0], 0)\n",
    "            \n",
    "            # save init as best model\n",
    "            self.best_log = self.logger[\"test\"][0]\n",
    "            self.best_model = copy.deepcopy(self.model)\n",
    "            self.logger[\"test\"][0][\"top test accuracy\"] = self.logger[\"test\"][0][\"test accuracy\"]\n",
    "            self.wandb_log({\"top test accuracy\":self.best_log[\"test accuracy\"]}, 0)\n",
    "            \n",
    "\n",
    "        for e in range(self.num_epochs):\n",
    "            if verbose:\n",
    "                print(f\"Epoch: {e+1} ------------------------------\")\n",
    "            \n",
    "            # train model\n",
    "            self.logger[\"train\"][e+1] = self.train_loop(self.train_loader, verbose)\n",
    "            self.wandb_log(self.logger[\"train\"][e+1], e+1)\n",
    "\n",
    "            # calculate model preformance\n",
    "            if include_test_scores:\n",
    "                self.logger[\"test\"][e+1] = self.test_loop(self.test_loader, label=\"test\")\n",
    "                self.wandb_log(self.logger[\"test\"][e+1], e+1)\n",
    "\n",
    "                # secure model with best test score\n",
    "                if self.best_log[\"test accuracy\"] < self.logger[\"test\"][e+1][\"test accuracy\"]:\n",
    "                    self.best_log = self.logger[\"test\"][e+1]\n",
    "                    self.best_model = copy.deepcopy(self.model)\n",
    "                self.logger[\"test\"][e+1][\"top test accuracy\"] = self.best_log[\"test accuracy\"]\n",
    "                self.wandb_log({\"top test accuracy\":self.best_log[\"test accuracy\"]}, e+1)\n",
    "                \n",
    "                # stop if test accuracy stops increasing for 25 epochs\n",
    "                if (e >= 25) and early_stopping:\n",
    "                    if self.best_log[\"test accuracy\"] == self.logger[\"test\"][e-24][\"top test accuracy\"]:\n",
    "                        break\n",
    "\n"
   ]
  },
  {
   "cell_type": "code",
   "execution_count": 13,
   "metadata": {},
   "outputs": [],
   "source": [
    "# num_epochs = 3\n",
    "# model = ConvNet_5(\n",
    "#             conv1_channels=120,\n",
    "#             conv2_channels=120,\n",
    "#             conv3_channels=120,\n",
    "#             conv4_channels=120,\n",
    "#             conv5_channels=120).to(device) # model selection\n",
    "# learning_rate = 0.01        # learning rate for optimizer\n",
    "# l2_weight_decay = 0.0       # l2 regularization for optimizer\n",
    "\n",
    "# trainer = ModelTrainer(\n",
    "#     model=model, \n",
    "#     train_loader=train_loader, \n",
    "#     test_loader=test_loader, \n",
    "#     num_epochs=num_epochs,\n",
    "#     criterion=nn.CrossEntropyLoss(),\n",
    "#     optimizer=torch.optim.SGD(\n",
    "#         model.parameters(), \n",
    "#         lr=learning_rate,\n",
    "#         weight_decay = l2_weight_decay\n",
    "#         )\n",
    "#     )\n",
    "\n",
    "# trainer.train(verbose=True, include_test_scores=True)\n",
    "# trainer.logger"
   ]
  },
  {
   "cell_type": "markdown",
   "metadata": {},
   "source": [
    "## Evaluate Model Size"
   ]
  },
  {
   "cell_type": "markdown",
   "metadata": {},
   "source": [
    "### MLP architecture\n",
    "\n",
    "In a first step we want to train a simple MLP with variable number of layers and nodes to see how well it is able to learn the trainigset and to use the trained network for evaluation of the classifications on the testset. The Multilayer Perceptron recieves the input data as a one-dimensional vector per image or as a two-dimensional matrix for multiple images. \n",
    "\n",
    "The structure of the network contains **1**, **2**, **3**, or **5** hidden layers. The nummber of nodes per layer varies between **32**, **64**, **128** and **256** nodes. We train four models for each structural combination with a varying learning rate of **0.02**, **0.05**, **0.1** and **0.2**. This results in **4 * 4 * 4 = 64** different trained mlp's."
   ]
  },
  {
   "cell_type": "markdown",
   "metadata": {},
   "source": [
    "### CNN architecture\n",
    "\n",
    "The architecture of a Convolutional Neural Network extends the existing structure of our MLP's with Convolutional Layers, followed by a Pooling Layer. The convolutional layer receives as input our 2 dimensional images and the three colour channels (RGB) as a 3d matrix. Then a filter kernel is iterated over the pixels of the matrix window by window. The output for a single pixel is calculated as the scalar product of the iterated window and the filter kernel. The output dimension of the Concolutional Layer can be calculated using the formula below.\n",
    "\n",
    "</br>\n",
    "\n",
    "$$H_{out} = \\left\\lfloor\\frac{H_{in} + 2 \\times \\text{padding}[0] - \\text{dilation}[0] \\times (\\text{kernel\\_size}[0] - 1) - 1}{\\text{stride}[0]} + 1\\right\\rfloor$$\n",
    "\n",
    "$$W_{out} = \\left\\lfloor\\frac{W_{in} + 2 \\times \\text{padding}[1] - \\text{dilation}[1] \\times (\\text{kernel\\_size}[1] - 1) - 1}{\\text{stride}[1]} + 1\\right\\rfloor$$\n",
    "\n",
    "where\n",
    "\n",
    "- $W_{in}$: Width of input\n",
    "- $H_{in}$: Height of input\n",
    "\n",
    "The subsequent pooling layer is used to filter out excess information. Here, again, a window is iterated over the output of the convolutional layer and a pooling action is performed. The most common method is max pooling, but average pooling is also used for deeper neural networks. This reduces the features of our matrices, while it usually does not reduce the accuracy of our network. Due to the feature reduction, our network is not only faster in computation and training, but it is also possible to train deeper networks. Furthermore, this method prevents overfitting, since the individual features are viewed in a generalised manner within the local iterated window. \n",
    "\n",
    "\n",
    "The structure of the cnn contains **2**, **3**, or **5** convolutional layers followed by a pooling layer. The nummber of filter kernel per convolutional layer varies between **32**, **64**, **128** and **256** filters. And like before we train four models for each structural combination with a varying learning rate of **0.02**, **0.05**, **0.1** and **0.2**. This results in **3 * 4 * 4 = 48** different trained cnn's."
   ]
  },
  {
   "cell_type": "code",
   "execution_count": 14,
   "metadata": {},
   "outputs": [],
   "source": [
    "class ConvNet_2(nn.Module):\n",
    "    '''A convolutional neural network with 2 convolutional layers'''\n",
    "    def __init__(self, activation=F.relu, kernel_size=5, pool_size=2, conv1_channels = 10, conv2_channels=8, fc_hidden_1=120, fc_hidden_2=84, drop_out=0):\n",
    "        '''Convolutional Net class'''\n",
    "        super(ConvNet_2, self).__init__()   \n",
    "        self.conv1 = nn.Conv2d(in_channels=3, out_channels=conv1_channels, kernel_size=kernel_size) \n",
    "        self.pool = nn.MaxPool2d(kernel_size=pool_size, stride=pool_size)\n",
    "        self.dropout2d = nn.Dropout2d(drop_out)\n",
    "        self.conv2 = nn.Conv2d(in_channels=conv1_channels, out_channels=conv2_channels, kernel_size=kernel_size) \n",
    "        self.fc1 = nn.Linear(in_features=conv2_channels*5*5, out_features=fc_hidden_1)   \n",
    "        self.fc2 = nn.Linear(in_features=fc_hidden_1, out_features=fc_hidden_2)\n",
    "        self.fc3 = nn.Linear(in_features=fc_hidden_2, out_features=10)\n",
    "        self.dropout = nn.Dropout(drop_out)\n",
    "        self.activation = activation\n",
    "        self.conv2_channels = conv2_channels\n",
    "\n",
    "    def forward(self, x):\n",
    "        x = self.pool(self.activation(self.conv1(x)))\n",
    "        x = self.dropout2d(x)\n",
    "        x = self.pool(self.activation(self.conv2(x)))\n",
    "        x = self.dropout2d(x)\n",
    "        x = x.view(-1, self.conv2_channels*5*5) # flatten tensor\n",
    "        x = self.activation(self.fc1(x))\n",
    "        x = self.dropout(x)\n",
    "        x = self.activation(self.fc2(x))\n",
    "        x = self.dropout(x)\n",
    "        x = self.fc3(x)\n",
    "        return x\n",
    "\n",
    "class ConvNet_3(nn.Module):\n",
    "    def __init__(self, activation=F.relu, kernel_size=5, pool_size=2, padding=3, conv1_channels = 10, conv2_channels=8, conv3_channels=8, fc_hidden_1=120, fc_hidden_2=84, drop_out=0):\n",
    "        '''A convolutional neural network with 3 convolutional layers'''\n",
    "        super(ConvNet_3, self).__init__()   \n",
    "        self.conv1 = nn.Conv2d(in_channels=3, out_channels=conv1_channels, kernel_size=kernel_size, padding=padding) \n",
    "        self.pool = nn.MaxPool2d(kernel_size=pool_size, stride=pool_size)\n",
    "        self.dropout2d = nn.Dropout2d(drop_out)\n",
    "        self.conv2 = nn.Conv2d(in_channels=conv1_channels, out_channels=conv2_channels, kernel_size=kernel_size, padding=padding) \n",
    "        self.conv3 = nn.Conv2d(in_channels=conv2_channels, out_channels=conv3_channels, kernel_size=kernel_size, padding=padding)\n",
    "        self.fc1 = nn.Linear(in_features=conv3_channels*5*5, out_features=fc_hidden_1)   \n",
    "        self.fc2 = nn.Linear(in_features=fc_hidden_1, out_features=fc_hidden_2)\n",
    "        self.fc3 = nn.Linear(in_features=fc_hidden_2, out_features=10)\n",
    "        self.dropout = nn.Dropout(drop_out)\n",
    "        self.activation = activation\n",
    "        self.conv3_channels = conv3_channels\n",
    "\n",
    "    def forward(self, x):\n",
    "        x = self.pool(self.activation(self.conv1(x)))\n",
    "        x = self.dropout2d(x)\n",
    "        x = self.pool(self.activation(self.conv2(x)))\n",
    "        x = self.dropout2d(x)\n",
    "        x = self.pool(self.activation(self.conv3(x)))\n",
    "        x = self.dropout2d(x)\n",
    "        x = x.view(-1, self.conv3_channels*5*5) # flatten tensor\n",
    "        x = self.activation(self.fc1(x))\n",
    "        x = self.dropout(x)\n",
    "        x = self.activation(self.fc2(x))\n",
    "        x = self.dropout(x)\n",
    "        x = self.fc3(x)\n",
    "        return x\n",
    "\n",
    "    \n",
    "class ConvNet_5(nn.Module):\n",
    "    def __init__(self, activation=F.relu, kernel_size=5, pool_size=2, padding=3, conv1_channels = 16, conv2_channels=16, conv3_channels=16, conv4_channels=16, conv5_channels=16, fc_hidden_1=120, fc_hidden_2=84, drop_out=0):\n",
    "        '''A convolutional neural network with 3 convolutional layers'''\n",
    "        super(ConvNet_5, self).__init__()   \n",
    "        self.conv1 = nn.Conv2d(in_channels=3, out_channels=conv1_channels, kernel_size=kernel_size, padding=padding) \n",
    "        self.pool = nn.MaxPool2d(kernel_size=pool_size, stride=pool_size)\n",
    "        self.dropout2d = nn.Dropout2d(drop_out)\n",
    "        self.conv2 = nn.Conv2d(in_channels=conv1_channels, out_channels=conv2_channels, kernel_size=kernel_size, padding=padding) \n",
    "        self.conv3 = nn.Conv2d(in_channels=conv2_channels, out_channels=conv3_channels, kernel_size=kernel_size, padding=padding)\n",
    "        self.conv4 = nn.Conv2d(in_channels=conv3_channels, out_channels=conv4_channels, kernel_size=kernel_size, padding=padding)\n",
    "        self.conv5 = nn.Conv2d(in_channels=conv4_channels, out_channels=conv5_channels, kernel_size=kernel_size, padding=padding)\n",
    "        self.fc1 = nn.Linear(in_features=conv5_channels*2*2, out_features=fc_hidden_1)   \n",
    "        self.fc2 = nn.Linear(in_features=fc_hidden_1, out_features=fc_hidden_2)\n",
    "        self.fc3 = nn.Linear(in_features=fc_hidden_2, out_features=10)\n",
    "        self.dropout = nn.Dropout(drop_out)\n",
    "        self.activation = activation\n",
    "        self.conv5_channels = conv5_channels\n",
    "\n",
    "    def forward(self, x):\n",
    "        x = self.pool(self.activation(self.conv1(x)))\n",
    "        x = self.dropout2d(x)\n",
    "        x = self.pool(self.activation(self.conv2(x)))\n",
    "        x = self.dropout2d(x)\n",
    "        x = self.pool(self.activation(self.conv3(x)))\n",
    "        x = self.dropout2d(x)\n",
    "        x = self.pool(self.activation(self.conv4(x)))\n",
    "        x = self.dropout2d(x)\n",
    "        x = self.pool(self.activation(self.conv5(x)))\n",
    "        x = self.dropout2d(x)\n",
    "        x = x.view(-1, self.conv5_channels*2*2) # flatten tensor\n",
    "        x = self.activation(self.fc1(x))\n",
    "        x = self.dropout(x)\n",
    "        x = self.activation(self.fc2(x))\n",
    "        x = self.dropout(x)\n",
    "        x = self.fc3(x)\n",
    "        return x"
   ]
  },
  {
   "cell_type": "markdown",
   "metadata": {},
   "source": [
    "## Train models\n",
    "\n",
    "As a last setup, a function is created that contains the initialisation of our model, the ModelTrainer, the subsequent training, logging and saving of the best models. In itself, this function is not really necessary, but it allows us to prepare individual packages of constellations that we can then simply recall afterwards, which saves the repetition of code."
   ]
  },
  {
   "cell_type": "code",
   "execution_count": 15,
   "metadata": {},
   "outputs": [],
   "source": [
    "def save_model(path, model, name):\n",
    "        '''\n",
    "        Saves the model as state dict.\n",
    "        Args:\n",
    "            path (str): path where to save the model\n",
    "        '''\n",
    "        filename = \"/{}.pt\".format(name)\n",
    "        if not os.path.exists(path):\n",
    "            os.makedirs(path)\n",
    "        torch.save(model, path + filename)\n",
    "        \n",
    "\n",
    "def train_mlp_2(config=None):\n",
    "    '''Trains and logs a multilayer perceptron'''\n",
    "    with wandb.init(entity=\"simonluder\", config=config) as run:\n",
    "        config = wandb.config\n",
    "        wandb.run.name = \"{}\".format(datetime.now().strftime(\"%Y-%m-%d-%H-%M-%S\"))\n",
    "        \n",
    "        # define model\n",
    "        model = MLPNet_2_layer(\n",
    "            fc_hidden_1=config[\"hidden_layers\"][0],\n",
    "            drop_out=config[\"drop_out\"],\n",
    "            ).to(device) \n",
    "        \n",
    "        # define trainer\n",
    "        trainer = ModelTrainer(\n",
    "            model=model, \n",
    "            train_loader=train_loader, \n",
    "            test_loader=test_loader, \n",
    "            num_epochs=config[\"num_epochs\"],\n",
    "            criterion=nn.CrossEntropyLoss(),\n",
    "            optimizer=torch.optim.SGD(\n",
    "                model.parameters(), \n",
    "                lr=config[\"learning_rate\"],\n",
    "                weight_decay = config[\"l2_weight_decay\"]))\n",
    "        \n",
    "        #train model\n",
    "        trainer.train(verbose=False, include_test_scores=True, early_stopping=True)\n",
    "        # save model if minimal test accuracy-score is reached\n",
    "        if trainer.best_log[\"test accuracy\"] >= min_acc:\n",
    "            save_model(path=\"top_model\", model=trainer.best_model, name=wandb.run.name)\n",
    "\n",
    "\n",
    "def train_mlp_3(config=None):\n",
    "    '''Trains and logs a multilayer perceptron'''\n",
    "    with wandb.init(entity=\"simonluder\", config=config) as run:\n",
    "        config = wandb.config\n",
    "        wandb.run.name = \"{}\".format(datetime.now().strftime(\"%Y-%m-%d-%H-%M-%S\"))\n",
    "        \n",
    "        # define model\n",
    "        model = MLPNet_3_layer(\n",
    "            fc_hidden_1=config[\"hidden_layers\"][0],\n",
    "            fc_hidden_2=config[\"hidden_layers\"][1],\n",
    "            drop_out=config[\"drop_out\"],\n",
    "            ).to(device) \n",
    "        \n",
    "        # define trainer\n",
    "        trainer = ModelTrainer(\n",
    "            model=model, \n",
    "            train_loader=train_loader, \n",
    "            test_loader=test_loader, \n",
    "            num_epochs=config[\"num_epochs\"],\n",
    "            criterion=nn.CrossEntropyLoss(),\n",
    "            optimizer=torch.optim.SGD(\n",
    "                model.parameters(), \n",
    "                lr=config[\"learning_rate\"],\n",
    "                weight_decay = config[\"l2_weight_decay\"]))\n",
    "        \n",
    "        #train model\n",
    "        trainer.train(verbose=False, include_test_scores=True, early_stopping=True)\n",
    "        # save model if minimal test accuracy-score is reached\n",
    "        if trainer.best_log[\"test accuracy\"] >= min_acc:\n",
    "            save_model(path=\"top_model\", model=trainer.best_model, name=wandb.run.name)\n",
    "\n",
    "\n",
    "def train_mlp_4(config=None):\n",
    "    '''Trains and logs a multilayer perceptron'''\n",
    "    with wandb.init(entity=\"simonluder\", config=config) as run:\n",
    "        config = wandb.config\n",
    "        wandb.run.name = \"{}\".format(datetime.now().strftime(\"%Y-%m-%d-%H-%M-%S\"))\n",
    "        \n",
    "        # define model\n",
    "        model = MLPNet_4_layer(\n",
    "            fc_hidden_1=config[\"hidden_layers\"][0],\n",
    "            fc_hidden_2=config[\"hidden_layers\"][1],\n",
    "            fc_hidden_3=config[\"hidden_layers\"][2],\n",
    "            drop_out=config[\"drop_out\"],\n",
    "            ).to(device) \n",
    "        \n",
    "        # define trainer\n",
    "        trainer = ModelTrainer(\n",
    "            model=model, \n",
    "            train_loader=train_loader, \n",
    "            test_loader=test_loader, \n",
    "            num_epochs=config[\"num_epochs\"],\n",
    "            criterion=nn.CrossEntropyLoss(),\n",
    "            optimizer=torch.optim.SGD(\n",
    "                model.parameters(), \n",
    "                lr=config[\"learning_rate\"],\n",
    "                weight_decay = config[\"l2_weight_decay\"]))\n",
    "        \n",
    "        #train model\n",
    "        trainer.train(verbose=False, include_test_scores=True, early_stopping=True)\n",
    "        # save model if minimal test accuracy-score is reached\n",
    "        if trainer.best_log[\"test accuracy\"] >= min_acc:\n",
    "            save_model(path=\"top_model\", model=trainer.best_model, name=wandb.run.name)\n",
    "            \n",
    "def train_mlp_6(config=None):\n",
    "    '''Trains and logs a multilayer perceptron'''\n",
    "    with wandb.init(entity=\"simonluder\", config=config) as run:\n",
    "        config = wandb.config\n",
    "        wandb.run.name = \"{}\".format(datetime.now().strftime(\"%Y-%m-%d-%H-%M-%S\"))\n",
    "        \n",
    "        # define model\n",
    "        model = MLPNet_6_layer(\n",
    "            fc_hidden_1=config[\"hidden_layers\"][0],\n",
    "            fc_hidden_2=config[\"hidden_layers\"][1],\n",
    "            fc_hidden_3=config[\"hidden_layers\"][2],\n",
    "            fc_hidden_4=config[\"hidden_layers\"][3],\n",
    "            fc_hidden_5=config[\"hidden_layers\"][4],\n",
    "            drop_out=config[\"drop_out\"],\n",
    "            ).to(device) \n",
    "        \n",
    "        # define trainer\n",
    "        trainer = ModelTrainer(\n",
    "            model=model, \n",
    "            train_loader=train_loader, \n",
    "            test_loader=test_loader, \n",
    "            num_epochs=config[\"num_epochs\"],\n",
    "            criterion=nn.CrossEntropyLoss(),\n",
    "            optimizer=torch.optim.SGD(\n",
    "                model.parameters(), \n",
    "                lr=config[\"learning_rate\"],\n",
    "                weight_decay = config[\"l2_weight_decay\"]))\n",
    "        \n",
    "        #train model\n",
    "        trainer.train(verbose=False, include_test_scores=True, early_stopping=True)\n",
    "        # save model if minimal test accuracy-score is reached\n",
    "        if trainer.best_log[\"test accuracy\"] >= min_acc:\n",
    "            save_model(path=\"top_model\", model=trainer.best_model, name=wandb.run.name)\n",
    "            \n",
    "def train_cnn_2(config=None):\n",
    "    '''Trains and logs a convolutional neuronal network'''\n",
    "    with wandb.init(entity=\"simonluder\", config=config) as run:\n",
    "        config = wandb.config\n",
    "        wandb.run.name = \"{}\".format(datetime.now().strftime(\"%Y-%m-%d-%H-%M-%S\"))\n",
    "        \n",
    "        # define model\n",
    "        model = ConvNet_2(\n",
    "            kernel_size=config[\"kernel_size\"],\n",
    "            pool_size=config[\"pool_size\"],\n",
    "            conv1_channels=config[\"conv_layers\"][0],\n",
    "            conv2_channels=config[\"conv_layers\"][1],\n",
    "            fc_hidden_1=config[\"hidden_layers\"][0],\n",
    "            fc_hidden_2=config[\"hidden_layers\"][1],\n",
    "            drop_out=config[\"drop_out\"],\n",
    "            ).to(device) \n",
    "        # define trainer\n",
    "        trainer = ModelTrainer(\n",
    "            model=model, \n",
    "            train_loader=train_loader, \n",
    "            test_loader=test_loader, \n",
    "            num_epochs=config[\"num_epochs\"],\n",
    "            criterion=nn.CrossEntropyLoss(),\n",
    "            optimizer=torch.optim.SGD(\n",
    "                model.parameters(), \n",
    "                lr=config[\"learning_rate\"],\n",
    "                weight_decay = config[\"l2_weight_decay\"]))\n",
    "        \n",
    "        #train model\n",
    "        trainer.train(verbose=False, include_test_scores=True, early_stopping=True)\n",
    "        # save model if minimal test accuracy-score is reached\n",
    "        if trainer.best_log[\"test accuracy\"] >= min_acc:\n",
    "            save_model(path=\"top_model\", model=trainer.best_model, name=wandb.run.name)\n",
    "            \n",
    "def train_cnn_3(config=None):\n",
    "    '''Trains and logs a convolutional neuronal network'''\n",
    "    with wandb.init(entity=\"simonluder\", config=config) as run:\n",
    "        config = wandb.config\n",
    "        wandb.run.name = \"{}\".format(datetime.now().strftime(\"%Y-%m-%d-%H-%M-%S\"))\n",
    "        \n",
    "        # define model\n",
    "        model = ConvNet_3(\n",
    "            kernel_size=config[\"kernel_size\"],\n",
    "            pool_size=config[\"pool_size\"],\n",
    "            conv1_channels=config[\"conv_layers\"][0],\n",
    "            conv2_channels=config[\"conv_layers\"][1],\n",
    "            conv3_channels=config[\"conv_layers\"][2],\n",
    "            fc_hidden_1=config[\"hidden_layers\"][0],\n",
    "            fc_hidden_2=config[\"hidden_layers\"][1],\n",
    "            drop_out=config[\"drop_out\"],\n",
    "            ).to(device) \n",
    "        \n",
    "        # define trainer\n",
    "        trainer = ModelTrainer(\n",
    "            model=model, \n",
    "            train_loader=train_loader, \n",
    "            test_loader=test_loader, \n",
    "            num_epochs=config[\"num_epochs\"],\n",
    "            criterion=nn.CrossEntropyLoss(),\n",
    "            optimizer=torch.optim.SGD(\n",
    "                model.parameters(), \n",
    "                lr=config[\"learning_rate\"],\n",
    "                weight_decay = config[\"l2_weight_decay\"]))\n",
    "        \n",
    "        #train model\n",
    "        trainer.train(verbose=False, include_test_scores=True, early_stopping=True)\n",
    "        # save model if minimal test accuracy-score is reached\n",
    "        if trainer.best_log[\"test accuracy\"] >= min_acc:\n",
    "            save_model(path=\"top_model\", model=trainer.best_model, name=wandb.run.name)\n",
    "            \n",
    "def train_cnn_5(config=None):\n",
    "    '''Trains and logs a convolutional neuronal network'''\n",
    "    with wandb.init(entity=\"simonluder\", config=config) as run:\n",
    "        config = wandb.config\n",
    "        wandb.run.name = \"{}\".format(datetime.now().strftime(\"%Y-%m-%d-%H-%M-%S\"))\n",
    "        \n",
    "        # define model\n",
    "        model = ConvNet_5(\n",
    "            kernel_size=config[\"kernel_size\"],\n",
    "            pool_size=config[\"pool_size\"],\n",
    "            conv1_channels=config[\"conv_layers\"][0],\n",
    "            conv2_channels=config[\"conv_layers\"][1],\n",
    "            conv3_channels=config[\"conv_layers\"][2],\n",
    "            conv4_channels=config[\"conv_layers\"][3],\n",
    "            conv5_channels=config[\"conv_layers\"][4],\n",
    "            fc_hidden_1=config[\"hidden_layers\"][0],\n",
    "            fc_hidden_2=config[\"hidden_layers\"][1],\n",
    "            drop_out=config[\"drop_out\"],\n",
    "            ).to(device) \n",
    "        \n",
    "        # define trainer\n",
    "        trainer = ModelTrainer(\n",
    "            model=model, \n",
    "            train_loader=train_loader, \n",
    "            test_loader=test_loader, \n",
    "            num_epochs=config[\"num_epochs\"],\n",
    "            criterion=nn.CrossEntropyLoss(),\n",
    "            optimizer=torch.optim.SGD(\n",
    "                model.parameters(), \n",
    "                lr=config[\"learning_rate\"],\n",
    "                weight_decay = config[\"l2_weight_decay\"]))\n",
    "        \n",
    "        #train model\n",
    "        trainer.train(verbose=False, include_test_scores=True, early_stopping=True)\n",
    "        # save model if minimal test accuracy-score is reached\n",
    "        if trainer.best_log[\"test accuracy\"] >= min_acc:\n",
    "            save_model(path=\"top_model\", model=trainer.best_model, name=wandb.run.name)"
   ]
  },
  {
   "cell_type": "markdown",
   "metadata": {},
   "source": [
    "## Model Evaluation\n",
    "\n",
    "In this section, different model constelations are examined for their performance. The evaluation is done by using Baesiean Search. The optimization is done with respect to the accuracy."
   ]
  },
  {
   "cell_type": "markdown",
   "metadata": {},
   "source": [
    "### Training of MLP's with SGD (without REG, without BN)"
   ]
  },
  {
   "cell_type": "code",
   "execution_count": null,
   "metadata": {},
   "outputs": [],
   "source": [
    "num_epochs = 100\n",
    "min_acc = 0.5\n",
    "create_sweep = False #create new sweeps\n",
    "\n",
    "# create initial sweep configuration\n",
    "mlp_sweep_configuration = {\n",
    "    \"name\": \"MLP_sweep\",\n",
    "    \"metric\": {\"name\": \"test accuracy\", \"goal\": \"minimize\"},\n",
    "    \"method\": \"grid\",\n",
    "    \"parameters\": {\n",
    "        \"variant\": {\n",
    "            \"value\": \"MLP_SGD\"\n",
    "        },\n",
    "        \"num_hidden\": {\n",
    "            \"value\": 1\n",
    "        },\n",
    "        \"hidden_layers\": {\n",
    "            \"values\":[(32,), (64,), (128,), (256,)]\n",
    "        },\n",
    "        \"num_epochs\": {\n",
    "            \"value\": num_epochs\n",
    "        },\n",
    "        \"learning_rate\": {\n",
    "            \"values\": [0.2, 0.1, 0.05, 0.02]\n",
    "        },\n",
    "        \"l2_weight_decay\": {\n",
    "            \"value\": 0\n",
    "        },\n",
    "        \"drop_out\": {\n",
    "            \"value\": 0\n",
    "        },\n",
    "    }\n",
    "}\n",
    "\n",
    "# run 2 layer mlp\n",
    "if create_sweep:\n",
    "    sweep_id = wandb.sweep(mlp_sweep_configuration, project=\"del-mc1\", entity=\"simonluder\")\n",
    "    wandb.agent(sweep_id, function=train_mlp_2)\n",
    "\n",
    "    \n",
    "# update sweep configuration for 3 layers mlp\n",
    "mlp_sweep_configuration[\"parameters\"].update({\n",
    "    \"num_hidden\": {\"value\": 2},\n",
    "    \"hidden_layers\": {\"values\":[(32,32), (64,64), (128,128), (256,256)]}})\n",
    "# run 3 layer mlp\n",
    "if create_sweep:\n",
    "    sweep_id = wandb.sweep(mlp_sweep_configuration, project=\"del-mc1\", entity=\"simonluder\")\n",
    "    wandb.agent(sweep_id, function=train_mlp_3)\n",
    "\n",
    "    \n",
    "# update sweep configuration for 4 layers mlp\n",
    "mlp_sweep_configuration[\"parameters\"].update({\n",
    "    \"num_hidden\": {\"value\": 3},\n",
    "    \"hidden_layers\": {\"values\":[(32,32,32), (64,64,64), (128,128,128), (256,256,256)]}})\n",
    "# run 4 layer mlp\n",
    "if create_sweep:\n",
    "    sweep_id = wandb.sweep(mlp_sweep_configuration, project=\"del-mc1\", entity=\"simonluder\")\n",
    "    wandb.agent(sweep_id, function=train_mlp_4)\n",
    "\n",
    "    \n",
    "# update sweep configuration for 6 layers mlp\n",
    "mlp_sweep_configuration[\"parameters\"].update({\n",
    "    \"num_hidden\": {\"value\": 5},\n",
    "    \"hidden_layers\": {\"values\":[(32,32,32,32,32), (64,64,64,64,64), (128,128,128,128,128), (256,256,256,256,256)]}}) \n",
    "# run 6 layer mlp\n",
    "if create_sweep:\n",
    "    sweep_id = wandb.sweep(mlp_sweep_configuration, project=\"del-mc1\", entity=\"simonluder\")\n",
    "    wandb.agent(sweep_id, function=train_mlp_6)"
   ]
  },
  {
   "cell_type": "markdown",
   "metadata": {},
   "source": [
    "### Training of CNN's with SGD (without REG, without BN)"
   ]
  },
  {
   "cell_type": "code",
   "execution_count": null,
   "metadata": {},
   "outputs": [],
   "source": [
    "num_epochs = 100\n",
    "min_acc = 0.75\n",
    "create_sweep = False #create new sweeps\n",
    "\n",
    "# create initial sweep configuration\n",
    "cnn_sweep_configuration = {\n",
    "    \"name\": \"CNN_sweep\",\n",
    "    \"metric\": {\"name\": \"test accuracy\", \"goal\": \"minimize\"},\n",
    "    \"method\": \"grid\",\n",
    "    \"parameters\": {\n",
    "        \"variant\": {\n",
    "            \"value\": \"CNN_SGD\"\n",
    "        },\n",
    "        \"num_conv\": {\n",
    "            \"value\": 2\n",
    "        },\n",
    "        \"conv_layers\": {\n",
    "            \"values\": [(32, 32),(64, 64),(128,128),(256,256)]\n",
    "        },\n",
    "        \"num_hidden\": {\n",
    "            \"value\": 2\n",
    "        },\n",
    "        \"hidden_layers\": {\n",
    "            \"values\": [(128, 64),]\n",
    "        },\n",
    "        \"num_epochs\": {\n",
    "            \"value\": num_epochs\n",
    "        },\n",
    "        \"learning_rate\": {\n",
    "            \"values\": [0.2, 0.1, 0.05, 0.02]\n",
    "        },\n",
    "        \"l2_weight_decay\": {\n",
    "            \"value\": 0\n",
    "        },\n",
    "        \"drop_out\": {\n",
    "            \"value\": 0\n",
    "        },\n",
    "        \"kernel_size\": {\n",
    "            \"value\": 5\n",
    "        },\n",
    "        \"pool_size\": {\n",
    "            \"value\": 2\n",
    "        },\n",
    "    }\n",
    "}\n",
    "\n",
    "# run 2 cnn 2 mlp layer\n",
    "if create_sweep:\n",
    "    sweep_id = wandb.sweep(cnn_sweep_configuration, project=\"del-mc1\", entity=\"simonluder\")\n",
    "    wandb.agent(sweep_id, function=train_cnn_2)\n",
    "\n",
    "    \n",
    "# update sweep configuration for 3 layers cnn\n",
    "cnn_sweep_configuration[\"parameters\"].update({\n",
    "    \"num_conv\": {\"value\": 3},\n",
    "    \"conv_layers\": {\"values\":[(32,32,32), (64,64,64), (128,128,128), (256,256,256)]}})\n",
    "# run 3 cnn 2 mlp layer\n",
    "if create_sweep:\n",
    "    sweep_id = wandb.sweep(cnn_sweep_configuration, project=\"del-mc1\", entity=\"simonluder\")\n",
    "    wandb.agent(sweep_id, function=train_cnn_3)\n",
    "\n",
    "    \n",
    "# update sweep configuration for 5 layers cnn\n",
    "cnn_sweep_configuration[\"parameters\"].update({\n",
    "    \"num_conv\": {\"value\": 5},\n",
    "    \"conv_layers\": {\"values\":[(32,32,32,32,32), (64,64,64,64,64), (128,128,128,128,128), (256,256,256,256,256)]}})\n",
    "# run 5 cnn 2 mlp layer\n",
    "if create_sweep:\n",
    "    sweep_id = wandb.sweep(cnn_sweep_configuration, project=\"del-mc1\", entity=\"simonluder\")\n",
    "    wandb.agent(sweep_id, function=train_cnn_5)"
   ]
  },
  {
   "cell_type": "markdown",
   "metadata": {},
   "source": [
    "### Evaluation"
   ]
  },
  {
   "cell_type": "code",
   "execution_count": null,
   "metadata": {},
   "outputs": [],
   "source": [
    "df_config_summary, df_history_summary = read_wandb_logs()\n",
    "df_history_max_test_acc = df_history_summary.loc[df_history_summary.groupby([\"name\"])[\"test accuracy\"].idxmax()].reset_index(drop=True)\n",
    "df_history_max_test_acc = pd.merge(df_history_max_test_acc, df_config_summary, left_on=\"name\", right_on=\"name\")"
   ]
  },
  {
   "cell_type": "code",
   "execution_count": null,
   "metadata": {},
   "outputs": [],
   "source": [
    "def print_best_models(df, variant=None):\n",
    "    '''Prints the best model vor a specified variant'''\n",
    "    # select model variant\n",
    "    if variant:\n",
    "        df = df.loc[df[\"variant\"]==variant]\n",
    "    # select model with best test accuracy\n",
    "    df = df.loc[df[\"top test accuracy\"]==np.max(df[\"top test accuracy\"])]\n",
    "    print(\"Best \\033[1m{}\\033[0m model reached a test accuracy of \\033[1m{}\\033[0m at epoch \\033[1m{}\\033[0m with and test loss of \\033[1m{:.3f}\\033[0m\".format(\n",
    "        df[\"variant\"].values[0], \n",
    "        df[\"test accuracy\"].values[0],\n",
    "        df[\"_step\"].values[0].astype(int), \n",
    "        df[\"test loss\"].values[0]\n",
    "    ))\n",
    "\n",
    "print_best_models(df_history_max_test_acc, variant=\"MLP_SGD\")\n",
    "print_best_models(df_history_max_test_acc, variant=\"CNN_SGD\")"
   ]
  },
  {
   "cell_type": "markdown",
   "metadata": {},
   "source": [
    "**Description:** The best MLP achieved a test accuracy of **0.549**, the best CNN **0.808**. The cnn thus performs significantly better on previously unseen data. It is noticeable that the best mlp has the maximum test accuracy already in epoch **13** while the cnn performed best on the test set in epoch **79**. We want to examine the resulting scores in more detail in our next steps."
   ]
  },
  {
   "cell_type": "markdown",
   "metadata": {},
   "source": [
    "#### MLP metrics development"
   ]
  },
  {
   "cell_type": "code",
   "execution_count": null,
   "metadata": {
    "scrolled": false
   },
   "outputs": [],
   "source": [
    "show_training(df = pd.merge(df_history_summary, df_config_summary, left_on=\"name\", right_on=\"name\"), \n",
    "              variant = \"MLP_SGD\", \n",
    "              columns = [\"train loss\", \"test loss\", \"train accuracy\", \"test accuracy\", \"top test accuracy\"])"
   ]
  },
  {
   "cell_type": "markdown",
   "metadata": {},
   "source": [
    "**Description:** We see that the training loss converges relatively stable towards a minimum for all models. The training accuracy is similar, which shows us that our mlp's work correctly in terms of training. If we compare the training and test loss, we see that the test loss reaches a minimum fairly early on. Then the test loss starts to increase again, while the training loss continues to decrease, which indicates an over fitting of the model.\n",
    "\n",
    "If we compare the test loss with the test accuracy, we see that the test accuracy also reaches the best result around the same time as the test loss. Afterwards, the test accuracy decreases again, but less severely than the test loss. This may be due to the fact that the model causes a sharp increase in the test loss due to the overfitting of the training data set, but the classification with the absolute labels remains approximately the same.\n",
    "\n",
    "The colors reflect the learning rate of the network. \n",
    "- yellow: 0.2\n",
    "- red: 0.1\n",
    "- pink: 0.05\n",
    "- violett: 0.02\n",
    "\n",
    "There seems to be a correlation between the learning rate and the effectiveness of the training. After the inspection of the cnn metrics we will therefore investigate the effect of the learning rate on the test accuracy."
   ]
  },
  {
   "cell_type": "markdown",
   "metadata": {},
   "source": [
    "#### CNN metrics development"
   ]
  },
  {
   "cell_type": "code",
   "execution_count": null,
   "metadata": {
    "scrolled": false
   },
   "outputs": [],
   "source": [
    "show_training(df = pd.merge(df_history_summary, df_config_summary, left_on=\"name\", right_on=\"name\"), \n",
    "              variant = \"CNN_SGD\", \n",
    "              columns = [\"train loss\", \"test loss\", \"train accuracy\", \"test accuracy\", \"top test accuracy\"])"
   ]
  },
  {
   "cell_type": "markdown",
   "metadata": {},
   "source": [
    "**Description:** \n",
    "\n",
    "\n",
    "\n",
    "For the CNNs we see a much faster convergence of the loss functions. Here, we also see an overfitting of most models from about the 10th epoch onwards, propably because of the same reasons as with the mlp's.\n",
    "\n",
    "The learning rate is again color coded in the visualization. \n",
    "- yellow: 0.2\n",
    "- red: 0.1\n",
    "- pink: 0.05\n",
    "- violett: 0.02\n",
    "\n",
    "\n",
    "With the CNN, we can clearly see how the learning rate can influence the training.The learning rate of 0.2 and 0.1 is clearly too high, which can be seen in the explosion of the loss function during training. With the higher learning rates, the optimum for the test accuracy and the test loss is also reached relatively early in the training. For lower learning rates the highest test accuracy score can be reached later in training. For this reason, in the next step we would like to take a closer look at the learning rate per model variant."
   ]
  },
  {
   "cell_type": "markdown",
   "metadata": {},
   "source": [
    "#### Influence of learning rate on training"
   ]
  },
  {
   "cell_type": "code",
   "execution_count": null,
   "metadata": {},
   "outputs": [],
   "source": [
    "compare_learning_rates_per_model(df_history_max_test_acc)"
   ]
  },
  {
   "cell_type": "markdown",
   "metadata": {},
   "source": [
    "The visualization shows the best achieved test accuracy according to model variant and learning rate. It can be seen that an increase in the learning rate led to a deterioration in the best test accuracy across all variants. For this reason, I would recommend using a learning rate of **0.05** or less on our data set for training with the mlp as well as the cnn.\n",
    "\n",
    "The visualization also shows the difference between the generalization ability of the MLP and the CNN variants. Finally we want to investigate the influence of the number of layers and the number of nodes per layer. "
   ]
  },
  {
   "cell_type": "markdown",
   "metadata": {},
   "source": [
    "#### MLP influence of  layer constellations"
   ]
  },
  {
   "cell_type": "code",
   "execution_count": null,
   "metadata": {},
   "outputs": [],
   "source": [
    "compare_mlp_sizes(df_history_max_test_acc, variant=\"MLP_SGD\")"
   ]
  },
  {
   "cell_type": "markdown",
   "metadata": {},
   "source": [
    "**Description:** Looking the heat map, some interesting things can be observed:\n",
    "\n",
    "1. It is noticeable that increasing the number of nodes per layer across all layer constellations has led to an improvement in the maximum test accuracy. The best variants based on our test set are those with the maximum tested number of 256 nodes per layer. \n",
    "\n",
    "\n",
    "2. Comparing the different numbers of layers, it can be seen that the variants with only one hidden layer performed clearly worse than the variants with more than one hidden layer for all layer sizes (except for layer size 32). The variants between 2 and 5 hidden layers have top test accuracy scores within the same hidden layer size that are much closer to each other.\n",
    "\n",
    "Based on this result, I would suggest that an MLP on our training data is therefore only partially able to generalise in such a way that it can reliably classify new samples. An extension of layers does not lead to a significant improvement after 2 to 3 layers. \n"
   ]
  },
  {
   "cell_type": "markdown",
   "metadata": {},
   "source": [
    " #### CNN influence of  layer constellations"
   ]
  },
  {
   "cell_type": "code",
   "execution_count": null,
   "metadata": {},
   "outputs": [],
   "source": [
    "compare_cnn_sizes(df_history_max_test_acc, variant=\"CNN_SGD\")"
   ]
  },
  {
   "cell_type": "markdown",
   "metadata": {},
   "source": [
    "As with the MLP, let's look at the best test accuracy for the CNN constalations.\n",
    "\n",
    "**Description:** When looking at the heat map, we also see an improvement in the best achieved test accuracy with an increasing number of filter kernels per convolutional layer. Thus, the model is able to extract more relevant features from the data set which can be used by the subsequent fully connected layers for the classifiaction task.\n",
    "\n",
    "It can also be seen that an increase in the number of convolutional layers leads to an improvement. This shows us that our model can generate more complex features with more convolutional layers, which are apparently also relevant for the classification of unseen data."
   ]
  },
  {
   "cell_type": "markdown",
   "metadata": {},
   "source": [
    "## Inclusion of Regularization"
   ]
  },
  {
   "cell_type": "code",
   "execution_count": null,
   "metadata": {},
   "outputs": [],
   "source": []
  },
  {
   "cell_type": "markdown",
   "metadata": {},
   "source": [
    "### L2 Regularization\n",
    "\n",
    "The Ridge regression adds the “squared magnitude” of all weights as penalty a term to the loss function. It is relevant how strongly the regularization is weighted in the calculation of the cost function. The strength of the regularization can be set via the hyperparameter *lambda*: $\\lambda$. If lambda is 0, then the regularization is not included in the optimization, which corresponds to the OLS variant used before. The higher lambda is chosen, the more the individual weights are decreased. L2 regularization therefore disperse the error terms in all the weights which should leads to more generalized final models."
   ]
  },
  {
   "cell_type": "markdown",
   "metadata": {},
   "source": [
    "#### Training of MLP's with SGD (with L2 REG, without BN)"
   ]
  },
  {
   "cell_type": "code",
   "execution_count": null,
   "metadata": {},
   "outputs": [],
   "source": [
    "num_epochs = 100\n",
    "min_acc = 0.5\n",
    "create_sweep = False #create new sweeps\n",
    "\n",
    "# create initial sweep configuration\n",
    "mlp_sweep_configuration = {\n",
    "    \"name\": \"MLP_sweep\",\n",
    "    \"metric\": {\"name\": \"test accuracy\", \"goal\": \"minimize\"},\n",
    "    \"method\": \"grid\",\n",
    "    \"parameters\": {\n",
    "        \"variant\": {\n",
    "            \"value\": \"MLP_SGD_L2\"\n",
    "        },\n",
    "        \"num_hidden\": {\n",
    "            \"value\": 3\n",
    "        },\n",
    "        \"hidden_layers\": {\n",
    "            \"values\": [(256,256,256),] \n",
    "        },\n",
    "        \"num_epochs\": {\n",
    "            \"value\": num_epochs\n",
    "        },\n",
    "        \"learning_rate\": {\n",
    "            \"value\": 0.05\n",
    "        },\n",
    "        \"l2_weight_decay\": {\n",
    "            \"values\": [0, 0.001, 0.002, 0.005, 0.01, 0.02, 0.05, 0.1, 0.2]\n",
    "        },\n",
    "        \"drop_out\": {\n",
    "            \"value\": 0\n",
    "        },\n",
    "    }\n",
    "}\n",
    "\n",
    "\n",
    "# run 4 layer mlp\n",
    "if create_sweep:\n",
    "    sweep_id = wandb.sweep(mlp_sweep_configuration, project=\"del-mc1\", entity=\"simonluder\")\n",
    "    wandb.agent(sweep_id, function=train_mlp_4)"
   ]
  },
  {
   "cell_type": "markdown",
   "metadata": {},
   "source": [
    "#### Training of CNN's with SGD (with L2 REG, without BN)"
   ]
  },
  {
   "cell_type": "code",
   "execution_count": null,
   "metadata": {},
   "outputs": [],
   "source": [
    "num_epochs = 100\n",
    "min_acc = 0.75\n",
    "create_sweep = False #create new sweeps\n",
    "\n",
    "# create initial sweep configuration\n",
    "cnn_sweep_configuration = {\n",
    "    \"name\": \"CNN_sweep\",\n",
    "    \"metric\": {\"name\": \"test accuracy\", \"goal\": \"minimize\"},\n",
    "    \"method\": \"grid\",\n",
    "    \"parameters\": {\n",
    "        \"variant\": {\n",
    "            \"value\": \"CNN_SGD_L2\"\n",
    "        },\n",
    "        \"num_conv\": {\n",
    "            \"value\": 5\n",
    "        },\n",
    "        \"conv_layers\": {\n",
    "            \"values\": [(256,256,256,256,256),]\n",
    "        },\n",
    "        \"num_hidden\": {\n",
    "            \"value\": 2\n",
    "        },\n",
    "        \"hidden_layers\": {\n",
    "            \"values\": [(128, 64),]\n",
    "        },\n",
    "        \"num_epochs\": {\n",
    "            \"value\": num_epochs\n",
    "        },\n",
    "        \"learning_rate\": {\n",
    "            \"value\": 0.05\n",
    "        },\n",
    "        \"l2_weight_decay\": {\n",
    "            \"values\": [0, 0.001, 0.002, 0.005, 0.01, 0.02, 0.05, 0.1, 0.2]\n",
    "        },\n",
    "        \"drop_out\": {\n",
    "            \"value\": 0\n",
    "        },\n",
    "        \"kernel_size\": {\n",
    "            \"value\": 5\n",
    "        },\n",
    "        \"pool_size\": {\n",
    "            \"value\": 2\n",
    "        },\n",
    "    }\n",
    "}\n",
    "\n",
    "\n",
    "# run 5 cnn 2 mlp layer\n",
    "if create_sweep:\n",
    "    sweep_id = wandb.sweep(cnn_sweep_configuration, project=\"del-mc1\", entity=\"simonluder\")\n",
    "    wandb.agent(sweep_id, function=train_cnn_5)"
   ]
  },
  {
   "cell_type": "markdown",
   "metadata": {},
   "source": [
    "### Evaluation"
   ]
  },
  {
   "cell_type": "code",
   "execution_count": null,
   "metadata": {},
   "outputs": [],
   "source": [
    "df_config_summary, df_history_summary = read_wandb_logs()\n",
    "df_history_max_test_acc = df_history_summary.loc[df_history_summary.groupby([\"name\"])[\"test accuracy\"].idxmax()].reset_index(drop=True)\n",
    "df_history_max_test_acc = pd.merge(df_history_max_test_acc, df_config_summary, left_on=\"name\", right_on=\"name\")\n",
    "df_l2 = pd.merge(df_history_summary, df_config_summary, left_on=\"name\", right_on=\"name\")"
   ]
  },
  {
   "cell_type": "code",
   "execution_count": null,
   "metadata": {},
   "outputs": [],
   "source": [
    "print_best_models(df_history_max_test_acc, variant=\"MLP_SGD_L2\")\n",
    "print_best_models(df_history_max_test_acc, variant=\"CNN_SGD_L2\")"
   ]
  },
  {
   "cell_type": "markdown",
   "metadata": {},
   "source": [
    "**Description:** Now including l2 regularization, the best MLP achieved a test accuracy of **0.551** compared to **0.549** (regularized MLP), the best CNN **0.807** compared to **0.808** (regularized CNN). It seems that the l2 regularization did not really improve the top score of both models.\n",
    "\n",
    "However, we see that the maximum test accuracy is now reached later in training for both best models. From epoch **13** to **15** for the MLP and from epoch **79** to **93** for the CNN. We want to analyze if this effect is actually caused by the l2 and examine the influence of l2 regularization on the training further in the following code cells."
   ]
  },
  {
   "cell_type": "markdown",
   "metadata": {},
   "source": [
    "#### MLP: L2 effect on train loss vs test loss  and  train accuracy vs best test accuracy"
   ]
  },
  {
   "cell_type": "code",
   "execution_count": null,
   "metadata": {},
   "outputs": [],
   "source": [
    "plot_train_vs_test_loss(df_l2, \"MLP_SGD_L2\")"
   ]
  },
  {
   "cell_type": "markdown",
   "metadata": {},
   "source": [
    "**Description:** The visualization shows the training loss per epoch against the test loss per epoch for the mlp model. We see in the visualization that both test and training loss decrease at the beginning. At a certain point, however, the test loss starts to increase again which is where the model starts to overfit. With increasing regularization strength, the minimum train loss seems to decrease on the one hand, and on the other hand, the training and test loss get closer to each other. However, if the regularization is too strong, both the training and the test loss are prevented from reaching a satisfactory minimum."
   ]
  },
  {
   "cell_type": "code",
   "execution_count": null,
   "metadata": {},
   "outputs": [],
   "source": [
    "plot_train_vs_test_accuracy(df_l2, \"MLP_SGD_L2\")"
   ]
  },
  {
   "cell_type": "markdown",
   "metadata": {},
   "source": [
    "**Description:** The visualization shows the training accuracy per epoch against the best reached test accuracy per epoch for the mlp model. Again, we see how the training and test accuracy increase at the same rate at the beginning. With an increasing number of epochs, however, the increase in test accuracy decreases disproportionately and seems to converge to a limit. Furthermore, we see that the value of the training accuracy and the maximum test accuracy converge strongly with increasing l2-regularization."
   ]
  },
  {
   "cell_type": "code",
   "execution_count": null,
   "metadata": {},
   "outputs": [],
   "source": [
    "max_test_acc_bar(df_l2, \"MLP_SGD_L2\")"
   ]
  },
  {
   "cell_type": "markdown",
   "metadata": {},
   "source": [
    "**Description:** The visualization shows the maximum reached test accuracy for different l2 regularization values of our mlp model. Looking only at the maximum reached test accuracy, we see a pattern between the l2 regularization parameter and the performance of the model. It seems that a regularization parameter of around **0.001** and **0.002** led to a better model. "
   ]
  },
  {
   "cell_type": "markdown",
   "metadata": {},
   "source": [
    "#### CNN: L2 effect on train loss vs test loss  and  train accuracy vs best test accuracy"
   ]
  },
  {
   "cell_type": "code",
   "execution_count": null,
   "metadata": {},
   "outputs": [],
   "source": [
    "plot_train_vs_test_loss(df_l2, \"CNN_SGD_L2\")"
   ]
  },
  {
   "cell_type": "markdown",
   "metadata": {},
   "source": [
    "**Description:** The visualization shows the training loss per epoch against the test loss per epoch for the cnn model. We see that the model can learn the data set perfectly after 100 epochs without regularization. An increase of the regularization leads to a \"barrier\", which the training loss converges to. With an increasing regularization strength this \"barrier\" becomes higher. From a l2 regularization of 0.005 upwards, the model learns so poorly that neither the training loss nor the test loss can be relevantly reduced."
   ]
  },
  {
   "cell_type": "code",
   "execution_count": null,
   "metadata": {},
   "outputs": [],
   "source": [
    "plot_train_vs_test_accuracy(df_l2, \"CNN_SGD_L2\")"
   ]
  },
  {
   "cell_type": "markdown",
   "metadata": {},
   "source": [
    "**Description:** The visualization shows the training accuracy per epoch against the best reached test accuracy per epoch for the cnn model. Due to the cnn's ability to generalize more, we see much less overfitting here and it also also starts to overfitt later in the training compared to the mlp. We also clearly see an effect of the l2 regularization on the training of the model. From a regulation strength of 0.005 upwards, the training seems to make no significant progress anymore, which results in a termination of the training from our early stopping criteria after 25 epochs. Therefore, the models with a higher l2 parameter are stuck in the bottom left of the plot around the initialization score."
   ]
  },
  {
   "cell_type": "code",
   "execution_count": null,
   "metadata": {},
   "outputs": [],
   "source": [
    "max_test_acc_bar(df_l2, \"CNN_SGD_L2\")"
   ]
  },
  {
   "cell_type": "markdown",
   "metadata": {},
   "source": [
    "**Description:** The visualization shows the maximum reached test accuracy for different l2 regularization values. We now see that our best cnn model appears to be the one without regularization. All regularized models degrade the maximum test accuracy achieved. From a l2 regularization of 0.005 upwards, the best test scores are barely bether than the initial expected accuracy because the training stoped after a short time due to a lack of progress in the training accuracy."
   ]
  },
  {
   "cell_type": "markdown",
   "metadata": {},
   "source": [
    "### Drop out Regulatization\n",
    "\n",
    "With drop out regularization, a specified percentage of the output values of the nodes within a layer are swept out and their value is set to zero. The selection of the nodes occurs randomly and is repeated for each batch. By ignoring individual node outputs in training, it ensures that the model cannot solely rely on individual nodes for making a classification. This causes the individual edge weights to be lowered overall, which should produce an effect similar to that of L2 regularization."
   ]
  },
  {
   "cell_type": "markdown",
   "metadata": {},
   "source": [
    "#### Training of MLP's with SGD (with Dropout REG, without BN)"
   ]
  },
  {
   "cell_type": "code",
   "execution_count": null,
   "metadata": {},
   "outputs": [],
   "source": [
    "num_epochs = 100\n",
    "min_acc = 0.5\n",
    "create_sweep = True #create new sweeps\n",
    "\n",
    "# create initial sweep configuration\n",
    "mlp_sweep_configuration = {\n",
    "    \"name\": \"MLP_sweep\",\n",
    "    \"metric\": {\"name\": \"test accuracy\", \"goal\": \"minimize\"},\n",
    "    \"method\": \"grid\",\n",
    "    \"parameters\": {\n",
    "        \"variant\": {\n",
    "            \"value\": \"MLP_SGD_DP\"\n",
    "        },\n",
    "        \"num_hidden\": {\n",
    "            \"value\": 3\n",
    "        },\n",
    "        \"hidden_layers\": {\n",
    "            \"values\": [(256,256,256),] \n",
    "        },\n",
    "        \"num_epochs\": {\n",
    "            \"value\": num_epochs\n",
    "        },\n",
    "        \"learning_rate\": {\n",
    "            \"value\": 0.05\n",
    "        },\n",
    "        \"l2_weight_decay\": {\n",
    "            \"value\": 0\n",
    "        },\n",
    "        \"drop_out\": {\n",
    "            \"values\": [0, 0.02, 0.05, 0.1, 0.2, 0.3, 0.4, 0.5]\n",
    "        },\n",
    "    }\n",
    "}\n",
    "\n",
    "\n",
    "# run 4 layer mlp\n",
    "if create_sweep:\n",
    "    sweep_id = wandb.sweep(mlp_sweep_configuration, project=\"del-mc1\", entity=\"simonluder\")\n",
    "    wandb.agent(sweep_id, function=train_mlp_4)"
   ]
  },
  {
   "cell_type": "markdown",
   "metadata": {},
   "source": [
    "#### Training of CNN's with SGD (with Dropout REG, without BN)"
   ]
  },
  {
   "cell_type": "code",
   "execution_count": null,
   "metadata": {},
   "outputs": [],
   "source": [
    "num_epochs = 100\n",
    "min_acc = 0.75\n",
    "create_sweep = True #create new sweeps\n",
    "\n",
    "# create initial sweep configuration\n",
    "cnn_sweep_configuration = {\n",
    "    \"name\": \"CNN_sweep\",\n",
    "    \"metric\": {\"name\": \"test accuracy\", \"goal\": \"minimize\"},\n",
    "    \"method\": \"grid\",\n",
    "    \"parameters\": {\n",
    "        \"variant\": {\n",
    "            \"value\": \"CNN_SGD_DP\"\n",
    "        },\n",
    "        \"num_conv\": {\n",
    "            \"value\": 5\n",
    "        },\n",
    "        \"conv_layers\": {\n",
    "            \"values\": [(256,256,256,256,256),]\n",
    "        },\n",
    "        \"num_hidden\": {\n",
    "            \"value\": 2\n",
    "        },\n",
    "        \"hidden_layers\": {\n",
    "            \"values\": [(128, 64),]\n",
    "        },\n",
    "        \"num_epochs\": {\n",
    "            \"value\": num_epochs\n",
    "        },\n",
    "        \"learning_rate\": {\n",
    "            \"value\": 0.05\n",
    "        },\n",
    "        \"l2_weight_decay\": {\n",
    "            \"value\": 0\n",
    "        },\n",
    "        \"drop_out\": {\n",
    "            \"values\": [0, 0.02, 0.05, 0.1, 0.2, 0.3, 0.4, 0.5]\n",
    "        },\n",
    "        \"kernel_size\": {\n",
    "            \"value\": 5\n",
    "        },\n",
    "        \"pool_size\": {\n",
    "            \"value\": 2\n",
    "        },\n",
    "    }\n",
    "}\n",
    "\n",
    "\n",
    "# run 5 cnn 2 mlp layer\n",
    "if create_sweep:\n",
    "    sweep_id = wandb.sweep(cnn_sweep_configuration, project=\"del-mc1\", entity=\"simonluder\")\n",
    "    wandb.agent(sweep_id, function=train_cnn_5)"
   ]
  },
  {
   "cell_type": "markdown",
   "metadata": {},
   "source": [
    "### Evaluation"
   ]
  },
  {
   "cell_type": "code",
   "execution_count": null,
   "metadata": {},
   "outputs": [],
   "source": [
    "df_config_summary, df_history_summary = read_wandb_logs()\n",
    "df_history_max_test_acc = df_history_summary.loc[df_history_summary.groupby([\"name\"])[\"test accuracy\"].idxmax()].reset_index(drop=True)\n",
    "df_history_max_test_acc = pd.merge(df_history_max_test_acc, df_config_summary, left_on=\"name\", right_on=\"name\")\n",
    "df_dp = pd.merge(df_history_summary, df_config_summary, left_on=\"name\", right_on=\"name\")"
   ]
  },
  {
   "cell_type": "code",
   "execution_count": null,
   "metadata": {},
   "outputs": [],
   "source": [
    "print_best_models(df_history_max_test_acc, variant=\"MLP_SGD_DP\")\n",
    "print_best_models(df_history_max_test_acc, variant=\"CNN_SGD_DP\")"
   ]
  },
  {
   "cell_type": "markdown",
   "metadata": {},
   "source": [
    "**Description:** Now including dropout regularization, the best MLP achieved a test accuracy of **0.544** compared to **0.549** (regularized MLP), the best CNN **0.810** compared to **0.808** (regularized CNN). Again, no significant improvement seems to have been achieved through using dropout as regularization method. However, we still want to investigate how dropout affected learning behavior in our models."
   ]
  },
  {
   "cell_type": "markdown",
   "metadata": {},
   "source": [
    "#### MLP: Drop out effect on train loss vs test loss  and  train accuracy vs best test accuracy"
   ]
  },
  {
   "cell_type": "code",
   "execution_count": null,
   "metadata": {},
   "outputs": [],
   "source": [
    "plot_train_vs_test_loss(df_dp, \"MLP_SGD_DP\")"
   ]
  },
  {
   "cell_type": "markdown",
   "metadata": {},
   "source": [
    "**Description:** The visualization shows the training loss per epoch against the test loss per epoch for the mlp model with dropout regularization. Compared to the l2 regularization, the training loss does not converge to an invisible limit. However, the training happens with increasing regularization strength at a reduced speed."
   ]
  },
  {
   "cell_type": "code",
   "execution_count": null,
   "metadata": {},
   "outputs": [],
   "source": [
    "plot_train_vs_test_accuracy(df_dp, \"MLP_SGD_DP\")"
   ]
  },
  {
   "cell_type": "markdown",
   "metadata": {},
   "source": [
    "**Description:** The visualization shows the training accuracy per epoch against the best reached test accuracy per epoch for the mlp model with dropout regularization. It seems that the train accuracy and best test accuracy seem to slowly decrease with a higher dropout ratio."
   ]
  },
  {
   "cell_type": "code",
   "execution_count": null,
   "metadata": {},
   "outputs": [],
   "source": [
    "max_test_acc_bar(df_dp, \"MLP_SGD_DP\")"
   ]
  },
  {
   "cell_type": "markdown",
   "metadata": {},
   "source": [
    "**Description:** Looking at the best test scores for our dropout, we see, that the best score was achieved with a dropout of two percent. It can be observed that there is a drop-off in the best accuracy with an increasing dropout ratio, however compared to the l2 regularization, the reduction is far less steep."
   ]
  },
  {
   "cell_type": "markdown",
   "metadata": {},
   "source": [
    "#### CNN: Drop out effect on train loss vs test loss  and  train accuracy vs best test accuracy"
   ]
  },
  {
   "cell_type": "code",
   "execution_count": null,
   "metadata": {},
   "outputs": [],
   "source": [
    "plot_train_vs_test_loss(df_dp, \"CNN_SGD_DP\")"
   ]
  },
  {
   "cell_type": "markdown",
   "metadata": {},
   "source": [
    "**Description:** The visualization shows the training loss per epoch against the test loss per epoch for the cnn model. Here it can also be observed that the training speed slows down with an increased dropout ratio. The overfitting starts around at the same train loss level as with the l2 regularization. The train loss however still reaches a level close to zero despite the dropout. "
   ]
  },
  {
   "cell_type": "code",
   "execution_count": null,
   "metadata": {},
   "outputs": [],
   "source": [
    "plot_train_vs_test_accuracy(df_dp, \"CNN_SGD_DP\")"
   ]
  },
  {
   "cell_type": "markdown",
   "metadata": {},
   "source": [
    "**Description:** The visualization shows the training accuracy per epoch against the best test accuracy per epoch for the cnn model with dropout regularization. Apart from the fact that the models with a higher dropout require more training epochs to achieve the same accuracy, I can't see any significant difference between the different regulation strengths."
   ]
  },
  {
   "cell_type": "code",
   "execution_count": null,
   "metadata": {},
   "outputs": [],
   "source": [
    "max_test_acc_bar(df_dp, \"CNN_SGD_DP\")"
   ]
  },
  {
   "cell_type": "markdown",
   "metadata": {},
   "source": [
    "**Description:** Finally, if we compare the maximum achieved test acccuracy of our different dropout ratios, we see that a low dropout worked best. "
   ]
  },
  {
   "cell_type": "markdown",
   "metadata": {},
   "source": [
    "### Including Batchnorm BN (without REG)\n",
    "\n",
    "Batchnormalization is a popular method to improve the training of deep neural networks, where there is an effect that can occur with an extended number of layers: the so-called *internal covariance shift*. This describes the phenomenon when the distribution of the activation values of a layer is changed by adjusting the weights of the prior layer. The adjustments of all preceding layers thus have an influence on the distributions of all activations of subsequent layers. The subsequent layers therefore must adapt to these changes. As a result, the training is significantly slowed down.\n",
    "\n",
    "Batch normalisation aims, as the name suggests, to normalise the distribution of activation values per batch for each layer, which reduces the variation of activation values per layer to a more defined range. Batch normalisation can thus also be seen as a kind of smoothing of the cost function in each layer, which in turn reduces the variation of the gradient lengths and thus leads to a more stable learning behaviour."
   ]
  },
  {
   "cell_type": "code",
   "execution_count": 16,
   "metadata": {},
   "outputs": [],
   "source": [
    "# redefine models\n",
    "class MLPNet_4_layer_bn(nn.Module):\n",
    "    '''Multi Layer Perceptron Net class with 4 layers'''\n",
    "    def __init__(self, fc_hidden_1, fc_hidden_2, fc_hidden_3, activation=F.relu, drop_out=0):\n",
    "        super(MLPNet_4_layer_bn, self).__init__()\n",
    "        self.fc1 = nn.Linear(in_features=32*32*3, out_features=fc_hidden_1)\n",
    "        self.fc1_bn = nn.BatchNorm1d(fc_hidden_1)\n",
    "        self.fc2 = nn.Linear(in_features=fc_hidden_1, out_features=fc_hidden_2)\n",
    "        self.fc2_bn = nn.BatchNorm1d(fc_hidden_2)\n",
    "        self.fc3 = nn.Linear(in_features=fc_hidden_2, out_features=fc_hidden_3)\n",
    "        self.fc3_bn = nn.BatchNorm1d(fc_hidden_3)\n",
    "        self.fc4 = nn.Linear(in_features=fc_hidden_3, out_features=10)\n",
    "        self.dropout = nn.Dropout(drop_out)\n",
    "        self.activation = activation # activation function\n",
    "    \n",
    "    def forward(self, x):\n",
    "        batch_size  = x.shape[0]\n",
    "        x = x.view(batch_size, -1)\n",
    "        x = self.activation(self.fc1_bn(self.fc1(x)))\n",
    "        x = self.dropout(x)\n",
    "        x = self.activation(self.fc2_bn(self.fc2(x)))\n",
    "        x = self.dropout(x)\n",
    "        x = self.activation(self.fc3_bn(self.fc3(x)))\n",
    "        x = self.dropout(x)\n",
    "        x = self.fc4(x)\n",
    "        return x\n",
    "\n",
    "\n",
    "class ConvNet_5_bn(nn.Module):\n",
    "    def __init__(self, activation=F.relu, kernel_size=5, pool_size=2, padding=3, conv1_channels = 16, conv2_channels=16, conv3_channels=16, conv4_channels=16, conv5_channels=16, fc_hidden_1=120, fc_hidden_2=84, drop_out=0):\n",
    "        '''A convolutional neural network with 3 convolutional layers'''\n",
    "        super(ConvNet_5_bn, self).__init__()   \n",
    "        self.conv1 = nn.Conv2d(in_channels=3, out_channels=conv1_channels, kernel_size=kernel_size, padding=padding)\n",
    "        self.conv1_bn=nn.BatchNorm2d(conv1_channels)\n",
    "        self.pool = nn.MaxPool2d(kernel_size=pool_size, stride=pool_size)\n",
    "        self.dropout2d = nn.Dropout2d(drop_out)\n",
    "        self.conv2 = nn.Conv2d(in_channels=conv1_channels, out_channels=conv2_channels, kernel_size=kernel_size, padding=padding)\n",
    "        self.conv2_bn=nn.BatchNorm2d(conv2_channels)\n",
    "        self.conv3 = nn.Conv2d(in_channels=conv2_channels, out_channels=conv3_channels, kernel_size=kernel_size, padding=padding)\n",
    "        self.conv3_bn=nn.BatchNorm2d(conv3_channels)\n",
    "        self.conv4 = nn.Conv2d(in_channels=conv3_channels, out_channels=conv4_channels, kernel_size=kernel_size, padding=padding)\n",
    "        self.conv4_bn=nn.BatchNorm2d(conv4_channels)\n",
    "        self.conv5 = nn.Conv2d(in_channels=conv4_channels, out_channels=conv5_channels, kernel_size=kernel_size, padding=padding)\n",
    "        self.conv5_bn=nn.BatchNorm2d(conv5_channels)\n",
    "        self.fc1 = nn.Linear(in_features=conv5_channels*2*2, out_features=fc_hidden_1)\n",
    "        self.fc1_bn = nn.BatchNorm1d(fc_hidden_1)\n",
    "        self.fc2 = nn.Linear(in_features=fc_hidden_1, out_features=fc_hidden_2)\n",
    "        self.fc2_bn = nn.BatchNorm1d(fc_hidden_2)\n",
    "        self.fc3 = nn.Linear(in_features=fc_hidden_2, out_features=10)\n",
    "        self.dropout = nn.Dropout(drop_out)\n",
    "        self.activation = activation\n",
    "        self.conv5_channels = conv5_channels\n",
    "\n",
    "    def forward(self, x):\n",
    "        x = self.pool(self.activation(self.conv1_bn(self.conv1(x))))\n",
    "        x = self.dropout2d(x)\n",
    "        x = self.pool(self.activation(self.conv2_bn(self.conv2(x))))\n",
    "        x = self.dropout2d(x)\n",
    "        x = self.pool(self.activation(self.conv3_bn(self.conv3(x))))\n",
    "        x = self.dropout2d(x)\n",
    "        x = self.pool(self.activation(self.conv4_bn(self.conv4(x))))\n",
    "        x = self.dropout2d(x)\n",
    "        x = self.pool(self.activation(self.conv5_bn(self.conv5(x))))\n",
    "        x = self.dropout2d(x)\n",
    "        x = x.view(-1, self.conv5_channels*2*2) # flatten tensor\n",
    "        x = self.activation(self.fc1_bn(self.fc1(x)))\n",
    "        x = self.dropout(x)\n",
    "        x = self.activation(self.fc2_bn(self.fc2(x)))\n",
    "        x = self.dropout(x)\n",
    "        x = self.fc3(x)\n",
    "        return x\n",
    "\n",
    "    \n",
    "# redefine training methods\n",
    "def train_mlp_4_bn(config=None):\n",
    "    '''Trains and logs a multilayer perceptron'''\n",
    "    with wandb.init(entity=\"simonluder\", config=config) as run:\n",
    "        config = wandb.config\n",
    "        wandb.run.name = \"{}\".format(datetime.now().strftime(\"%Y-%m-%d-%H-%M-%S\"))\n",
    "        \n",
    "        # define model\n",
    "        model = MLPNet_4_layer_bn(\n",
    "            fc_hidden_1=config[\"hidden_layers\"][0],\n",
    "            fc_hidden_2=config[\"hidden_layers\"][1],\n",
    "            fc_hidden_3=config[\"hidden_layers\"][2],\n",
    "            drop_out=config[\"drop_out\"],\n",
    "            ).to(device) \n",
    "        \n",
    "        # define trainer\n",
    "        trainer = ModelTrainer(\n",
    "            model=model, \n",
    "            train_loader=train_loader, \n",
    "            test_loader=test_loader, \n",
    "            num_epochs=config[\"num_epochs\"],\n",
    "            criterion=nn.CrossEntropyLoss(),\n",
    "            optimizer=torch.optim.SGD(\n",
    "                model.parameters(), \n",
    "                lr=config[\"learning_rate\"],\n",
    "                weight_decay = config[\"l2_weight_decay\"]))\n",
    "        \n",
    "        #train model\n",
    "        trainer.train(verbose=False, include_test_scores=True, early_stopping=True)\n",
    "        # save model if minimal test accuracy-score is reached\n",
    "        if trainer.best_log[\"test accuracy\"] >= min_acc:\n",
    "            save_model(path=\"top_model\", model=trainer.best_model, name=wandb.run.name)\n",
    "    \n",
    "    \n",
    "def train_cnn_5_bn(config=None):\n",
    "    '''Trains and logs a convolutional neuronal network'''\n",
    "    with wandb.init(entity=\"simonluder\", config=config) as run:\n",
    "        config = wandb.config\n",
    "        wandb.run.name = \"{}\".format(datetime.now().strftime(\"%Y-%m-%d-%H-%M-%S\"))\n",
    "        \n",
    "        # define model\n",
    "        model = ConvNet_5_bn(\n",
    "            kernel_size=config[\"kernel_size\"],\n",
    "            pool_size=config[\"pool_size\"],\n",
    "            conv1_channels=config[\"conv_layers\"][0],\n",
    "            conv2_channels=config[\"conv_layers\"][1],\n",
    "            conv3_channels=config[\"conv_layers\"][2],\n",
    "            conv4_channels=config[\"conv_layers\"][3],\n",
    "            conv5_channels=config[\"conv_layers\"][4],\n",
    "            fc_hidden_1=config[\"hidden_layers\"][0],\n",
    "            fc_hidden_2=config[\"hidden_layers\"][1],\n",
    "            drop_out=config[\"drop_out\"],\n",
    "            ).to(device) \n",
    "        \n",
    "        # define trainer\n",
    "        trainer = ModelTrainer(\n",
    "            model=model, \n",
    "            train_loader=train_loader, \n",
    "            test_loader=test_loader, \n",
    "            num_epochs=config[\"num_epochs\"],\n",
    "            criterion=nn.CrossEntropyLoss(),\n",
    "            optimizer=torch.optim.SGD(\n",
    "                model.parameters(), \n",
    "                lr=config[\"learning_rate\"],\n",
    "                weight_decay = config[\"l2_weight_decay\"]))\n",
    "        \n",
    "        #train model\n",
    "        trainer.train(verbose=False, include_test_scores=True, early_stopping=True)\n",
    "        # save model if minimal test accuracy-score is reached\n",
    "        if trainer.best_log[\"test accuracy\"] >= min_acc:\n",
    "            save_model(path=\"top_model\", model=trainer.best_model, name=wandb.run.name)"
   ]
  },
  {
   "cell_type": "markdown",
   "metadata": {},
   "source": [
    "#### Training of MLP's with SGD (without REG, with BN)"
   ]
  },
  {
   "cell_type": "code",
   "execution_count": 18,
   "metadata": {},
   "outputs": [
    {
     "name": "stdout",
     "output_type": "stream",
     "text": [
      "Create sweep with ID: 3cgdjcql\n",
      "Sweep URL: https://wandb.ai/simonluder/del-mc1/sweeps/3cgdjcql\n"
     ]
    }
   ],
   "source": [
    "num_epochs = 100\n",
    "min_acc = 0.5\n",
    "create_sweep = True #create new sweeps\n",
    "\n",
    "# create initial sweep configuration\n",
    "mlp_sweep_configuration = {\n",
    "    \"name\": \"MLP_sweep\",\n",
    "    \"metric\": {\"name\": \"test accuracy\", \"goal\": \"minimize\"},\n",
    "    \"method\": \"grid\",\n",
    "    \"parameters\": {\n",
    "        \"variant\": {\n",
    "            \"value\": \"MLP_SGD_BN\"\n",
    "        },\n",
    "        \"num_hidden\": {\n",
    "            \"value\": 3\n",
    "        },\n",
    "        \"hidden_layers\": {\n",
    "            \"values\": [(256,256,256),] \n",
    "        },\n",
    "        \"num_epochs\": {\n",
    "            \"value\": num_epochs\n",
    "        },\n",
    "        \"learning_rate\": {\n",
    "            \"values\": [0.02, 0.05]\n",
    "        },\n",
    "        \"l2_weight_decay\": {\n",
    "            \"value\": 0\n",
    "        },\n",
    "        \"drop_out\": {\n",
    "            \"value\": 0\n",
    "        },\n",
    "    }\n",
    "}\n",
    "\n",
    "\n",
    "# run 4 layer mlp\n",
    "if create_sweep:\n",
    "    sweep_id = wandb.sweep(mlp_sweep_configuration, project=\"del-mc1\", entity=\"simonluder\")\n",
    "    wandb.agent(sweep_id, function=train_mlp_4_bn)"
   ]
  },
  {
   "cell_type": "markdown",
   "metadata": {},
   "source": [
    "#### Training of CNN's with SGD (without REG, with BN)"
   ]
  },
  {
   "cell_type": "code",
   "execution_count": null,
   "metadata": {},
   "outputs": [
    {
     "name": "stdout",
     "output_type": "stream",
     "text": [
      "Create sweep with ID: zf98peb1\n",
      "Sweep URL: https://wandb.ai/simonluder/del-mc1/sweeps/zf98peb1\n"
     ]
    }
   ],
   "source": [
    "num_epochs = 100\n",
    "min_acc = 0.75\n",
    "create_sweep = True #create new sweeps\n",
    "\n",
    "# create initial sweep configuration\n",
    "cnn_sweep_configuration = {\n",
    "    \"name\": \"CNN_sweep\",\n",
    "    \"metric\": {\"name\": \"test accuracy\", \"goal\": \"minimize\"},\n",
    "    \"method\": \"grid\",\n",
    "    \"parameters\": {\n",
    "        \"variant\": {\n",
    "            \"value\": \"CNN_SGD_DP\"\n",
    "        },\n",
    "        \"num_conv\": {\n",
    "            \"value\": 5\n",
    "        },\n",
    "        \"conv_layers\": {\n",
    "            \"values\": [(256,256,256,256,256),]\n",
    "        },\n",
    "        \"num_hidden\": {\n",
    "            \"value\": 2\n",
    "        },\n",
    "        \"hidden_layers\": {\n",
    "            \"values\": [(128, 64),]\n",
    "        },\n",
    "        \"num_epochs\": {\n",
    "            \"value\": num_epochs\n",
    "        },\n",
    "        \"learning_rate\": {\n",
    "            \"values\": [0.02, 0.05]\n",
    "        },\n",
    "        \"l2_weight_decay\": {\n",
    "            \"value\": 0\n",
    "        },\n",
    "        \"drop_out\": {\n",
    "            \"value\": 0\n",
    "        },\n",
    "        \"kernel_size\": {\n",
    "            \"value\": 5\n",
    "        },\n",
    "        \"pool_size\": {\n",
    "            \"value\": 2\n",
    "        },\n",
    "    }\n",
    "}\n",
    "\n",
    "\n",
    "# run 5 cnn 2 mlp layer\n",
    "if create_sweep:\n",
    "    sweep_id = wandb.sweep(cnn_sweep_configuration, project=\"del-mc1\", entity=\"simonluder\")\n",
    "    wandb.agent(sweep_id, function=train_cnn_5)"
   ]
  },
  {
   "cell_type": "markdown",
   "metadata": {},
   "source": [
    "### Evaluation"
   ]
  },
  {
   "cell_type": "markdown",
   "metadata": {},
   "source": [
    "### Using Adam (without BN)"
   ]
  },
  {
   "cell_type": "code",
   "execution_count": null,
   "metadata": {},
   "outputs": [],
   "source": [
    "num_epochs = 100\n",
    "min_acc = 0.5\n",
    "create_sweep = True #create new sweeps\n",
    "\n",
    "# create initial sweep configuration\n",
    "mlp_sweep_configuration = {\n",
    "    \"name\": \"MLP_sweep\",\n",
    "    \"metric\": {\"name\": \"test accuracy\", \"goal\": \"minimize\"},\n",
    "    \"method\": \"grid\",\n",
    "    \"parameters\": {\n",
    "        \"variant\": {\n",
    "            \"value\": \"MLP_SGD_Adam\"\n",
    "        },\n",
    "        \"num_hidden\": {\n",
    "            \"value\": 3\n",
    "        },\n",
    "        \"hidden_layers\": {\n",
    "            \"values\": [(256,256,256),] \n",
    "        },\n",
    "        \"num_epochs\": {\n",
    "            \"value\": num_epochs\n",
    "        },\n",
    "        \"learning_rate\": {\n",
    "            \"values\":[0, 0.001, 0.002, 0.005, 0.01, 0.02, 0.05, 0.1]\n",
    "        },\n",
    "        \"l2_weight_decay\": {\n",
    "            \"value\": 0\n",
    "        },\n",
    "        \"drop_out\": {\n",
    "            \"value\": 0\n",
    "        },\n",
    "    }\n",
    "}\n",
    "\n",
    "# redefine training\n",
    "def train_mlp_4_adam(config=None):\n",
    "    '''Trains and logs a multilayer perceptron'''\n",
    "    with wandb.init(entity=\"simonluder\", config=config) as run:\n",
    "        config = wandb.config\n",
    "        wandb.run.name = \"{}\".format(datetime.now().strftime(\"%Y-%m-%d-%H-%M-%S\"))\n",
    "        \n",
    "        # define model\n",
    "        model = MLPNet_4_layer(\n",
    "            fc_hidden_1=config[\"hidden_layers\"][0],\n",
    "            fc_hidden_2=config[\"hidden_layers\"][1],\n",
    "            fc_hidden_3=config[\"hidden_layers\"][2],\n",
    "            drop_out=config[\"drop_out\"],\n",
    "            ).to(device) \n",
    "        \n",
    "        # define trainer\n",
    "        trainer = ModelTrainer(\n",
    "            model=model, \n",
    "            train_loader=train_loader, \n",
    "            test_loader=test_loader, \n",
    "            num_epochs=config[\"num_epochs\"],\n",
    "            criterion=nn.CrossEntropyLoss(),\n",
    "            optimizer=torch.optim.Adam(\n",
    "                model.parameters(), \n",
    "                lr=config[\"learning_rate\"],\n",
    "                weight_decay = config[\"l2_weight_decay\"]))\n",
    "        \n",
    "        #train model\n",
    "        trainer.train(verbose=False, include_test_scores=True, early_stopping=True)\n",
    "        # save model if minimal test accuracy-score is reached\n",
    "        if trainer.best_log[\"test accuracy\"] >= min_acc:\n",
    "            save_model(path=\"top_model\", model=trainer.best_model, name=wandb.run.name)\n",
    "\n",
    "\n",
    "# run 4 layer mlp\n",
    "if create_sweep:\n",
    "    sweep_id = wandb.sweep(mlp_sweep_configuration, project=\"del-mc1\", entity=\"simonluder\")\n",
    "    wandb.agent(sweep_id, function=train_mlp_4_Adam)"
   ]
  },
  {
   "cell_type": "code",
   "execution_count": null,
   "metadata": {},
   "outputs": [],
   "source": [
    "num_epochs = 100\n",
    "min_acc = 0.75\n",
    "create_sweep = True #create new sweeps\n",
    "\n",
    "# create initial sweep configuration\n",
    "cnn_sweep_configuration = {\n",
    "    \"name\": \"CNN_sweep\",\n",
    "    \"metric\": {\"name\": \"test accuracy\", \"goal\": \"minimize\"},\n",
    "    \"method\": \"grid\",\n",
    "    \"parameters\": {\n",
    "        \"variant\": {\n",
    "            \"value\": \"CNN_SGD_Adam\"\n",
    "        },\n",
    "        \"num_conv\": {\n",
    "            \"value\": 5\n",
    "        },\n",
    "        \"conv_layers\": {\n",
    "            \"values\": [(256,256,256,256,256),]\n",
    "        },\n",
    "        \"num_hidden\": {\n",
    "            \"value\": 2\n",
    "        },\n",
    "        \"hidden_layers\": {\n",
    "            \"values\": [(128, 64),]\n",
    "        },\n",
    "        \"num_epochs\": {\n",
    "            \"value\": num_epochs\n",
    "        },\n",
    "        \"learning_rate\": {\n",
    "            \"values\": [0, 0.001, 0.002, 0.005, 0.01, 0.02, 0.05, 0.1]\n",
    "        },\n",
    "        \"l2_weight_decay\": {\n",
    "            \"value\": 0\n",
    "        },\n",
    "        \"drop_out\": {\n",
    "            \"value\": 0\n",
    "        },\n",
    "        \"kernel_size\": {\n",
    "            \"value\": 5\n",
    "        },\n",
    "        \"pool_size\": {\n",
    "            \"value\": 2\n",
    "        },\n",
    "    }\n",
    "}\n",
    "\n",
    "# redefine training\n",
    "def train_cnn_5_adam(config=None):\n",
    "    '''Trains and logs a convolutional neuronal network'''\n",
    "    with wandb.init(entity=\"simonluder\", config=config) as run:\n",
    "        config = wandb.config\n",
    "        wandb.run.name = \"{}\".format(datetime.now().strftime(\"%Y-%m-%d-%H-%M-%S\"))\n",
    "        \n",
    "        # define model\n",
    "        model = ConvNet_5(\n",
    "            kernel_size=config[\"kernel_size\"],\n",
    "            pool_size=config[\"pool_size\"],\n",
    "            conv1_channels=config[\"conv_layers\"][0],\n",
    "            conv2_channels=config[\"conv_layers\"][1],\n",
    "            conv3_channels=config[\"conv_layers\"][2],\n",
    "            conv4_channels=config[\"conv_layers\"][3],\n",
    "            conv5_channels=config[\"conv_layers\"][4],\n",
    "            fc_hidden_1=config[\"hidden_layers\"][0],\n",
    "            fc_hidden_2=config[\"hidden_layers\"][1],\n",
    "            drop_out=config[\"drop_out\"],\n",
    "            ).to(device) \n",
    "        \n",
    "        # define trainer\n",
    "        trainer = ModelTrainer(\n",
    "            model=model, \n",
    "            train_loader=train_loader, \n",
    "            test_loader=test_loader, \n",
    "            num_epochs=config[\"num_epochs\"],\n",
    "            criterion=nn.CrossEntropyLoss(),\n",
    "            optimizer=torch.optim.Adam(\n",
    "                model.parameters(), \n",
    "                lr=config[\"learning_rate\"],\n",
    "                weight_decay = config[\"l2_weight_decay\"]))\n",
    "        \n",
    "        #train model\n",
    "        trainer.train(verbose=False, include_test_scores=True, early_stopping=True)\n",
    "        # save model if minimal test accuracy-score is reached\n",
    "        if trainer.best_log[\"test accuracy\"] >= min_acc:\n",
    "            save_model(path=\"top_model\", model=trainer.best_model, name=wandb.run.name)\n",
    "\n",
    "# run 5 cnn 2 mlp layer\n",
    "if create_sweep:\n",
    "    sweep_id = wandb.sweep(cnn_sweep_configuration, project=\"del-mc1\", entity=\"simonluder\")\n",
    "    wandb.agent(sweep_id, function=train_cnn_5)"
   ]
  },
  {
   "cell_type": "markdown",
   "metadata": {},
   "source": [
    "### Evaluation"
   ]
  },
  {
   "cell_type": "markdown",
   "metadata": {},
   "source": [
    "The first noticeable change is the change in the optimal learning rate. While our previous variants had an optimal learning rate between 0.1 and 0.05, with the Adam optimizer this rate is clearly too high and leads to an unstable learning behaviour. It seems that for our models in the CIFAR10 data set, a 10 times smaller learning rate is necessary to achieve a stable training behaviour."
   ]
  },
  {
   "cell_type": "markdown",
   "metadata": {},
   "source": []
  }
 ],
 "metadata": {
  "interpreter": {
   "hash": "53a60aad9525bfb42eeb15304a4347f0069f2e83056fd26ff65070a66e6c6e0c"
  },
  "kernelspec": {
   "display_name": "Python 3",
   "language": "python",
   "name": "python3"
  },
  "language_info": {
   "codemirror_mode": {
    "name": "ipython",
    "version": 3
   },
   "file_extension": ".py",
   "mimetype": "text/x-python",
   "name": "python",
   "nbconvert_exporter": "python",
   "pygments_lexer": "ipython3",
   "version": "3.7.6"
  }
 },
 "nbformat": 4,
 "nbformat_minor": 2
}
